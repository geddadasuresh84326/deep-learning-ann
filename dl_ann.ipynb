{
  "cells": [
    {
      "cell_type": "markdown",
      "metadata": {
        "id": "view-in-github",
        "colab_type": "text"
      },
      "source": [
        "<a href=\"https://colab.research.google.com/github/geddadasuresh84326/deep-learning-ann/blob/main/dl_ann.ipynb\" target=\"_parent\"><img src=\"https://colab.research.google.com/assets/colab-badge.svg\" alt=\"Open In Colab\"/></a>"
      ]
    },
    {
      "cell_type": "code",
      "execution_count": null,
      "metadata": {
        "colab": {
          "base_uri": "https://localhost:8080/"
        },
        "id": "NClIKi89YuR5",
        "outputId": "5e76370d-5cf1-408c-b3f7-338ec45215e6"
      },
      "outputs": [
        {
          "output_type": "stream",
          "name": "stdout",
          "text": [
            "2.12.0\n"
          ]
        }
      ],
      "source": [
        "import tensorflow\n",
        "print(tensorflow.__version__)"
      ]
    },
    {
      "cell_type": "code",
      "execution_count": null,
      "metadata": {
        "id": "8vofl5y3hZMU"
      },
      "outputs": [],
      "source": [
        "import numpy as np\n",
        "import pandas as pd\n",
        "import matplotlib.pyplot as plt"
      ]
    },
    {
      "cell_type": "code",
      "execution_count": null,
      "metadata": {
        "id": "6xACHjRBiKr1"
      },
      "outputs": [],
      "source": [
        "df = pd.read_csv(\"/content/aps_data.csv\")"
      ]
    },
    {
      "cell_type": "code",
      "execution_count": null,
      "metadata": {
        "colab": {
          "base_uri": "https://localhost:8080/",
          "height": 256
        },
        "id": "zeXvDL6siYKR",
        "outputId": "bb5d2987-e5b7-45ad-99a1-496c9749dcbd"
      },
      "outputs": [
        {
          "output_type": "execute_result",
          "data": {
            "text/plain": [
              "  class  aa_000 ab_000 ac_000 ad_000 ae_000 af_000 ag_000 ag_001 ag_002  ...  \\\n",
              "0   neg       6      0      0      0      0      0      0      0      0  ...   \n",
              "1   neg      90      0      0     66      0      0      0      0      0  ...   \n",
              "2   neg      30     na     16     14      0      0      0      0      0  ...   \n",
              "3   neg     444     na     14     12      0      0      0      0      0  ...   \n",
              "4   neg      82     na     12     10      0      0      0      0   1464  ...   \n",
              "\n",
              "  ee_002 ee_003 ee_004 ee_005 ee_006 ee_007 ee_008 ee_009 ef_000 eg_000  \n",
              "0     26      8     26     52      0      0      0      0      0      0  \n",
              "1   1268    526    554    300    118    260      0      0      0      0  \n",
              "2    480     84     74     50     46      0      0      0      0      0  \n",
              "3   1614   1144   3598   2460   1258   8524    110      0      0      0  \n",
              "4   1010    132    310     56     92   1292      0      0      0      0  \n",
              "\n",
              "[5 rows x 171 columns]"
            ],
            "text/html": [
              "\n",
              "  <div id=\"df-ea2cb00f-deca-48e1-8a77-d6bd3829ab21\" class=\"colab-df-container\">\n",
              "    <div>\n",
              "<style scoped>\n",
              "    .dataframe tbody tr th:only-of-type {\n",
              "        vertical-align: middle;\n",
              "    }\n",
              "\n",
              "    .dataframe tbody tr th {\n",
              "        vertical-align: top;\n",
              "    }\n",
              "\n",
              "    .dataframe thead th {\n",
              "        text-align: right;\n",
              "    }\n",
              "</style>\n",
              "<table border=\"1\" class=\"dataframe\">\n",
              "  <thead>\n",
              "    <tr style=\"text-align: right;\">\n",
              "      <th></th>\n",
              "      <th>class</th>\n",
              "      <th>aa_000</th>\n",
              "      <th>ab_000</th>\n",
              "      <th>ac_000</th>\n",
              "      <th>ad_000</th>\n",
              "      <th>ae_000</th>\n",
              "      <th>af_000</th>\n",
              "      <th>ag_000</th>\n",
              "      <th>ag_001</th>\n",
              "      <th>ag_002</th>\n",
              "      <th>...</th>\n",
              "      <th>ee_002</th>\n",
              "      <th>ee_003</th>\n",
              "      <th>ee_004</th>\n",
              "      <th>ee_005</th>\n",
              "      <th>ee_006</th>\n",
              "      <th>ee_007</th>\n",
              "      <th>ee_008</th>\n",
              "      <th>ee_009</th>\n",
              "      <th>ef_000</th>\n",
              "      <th>eg_000</th>\n",
              "    </tr>\n",
              "  </thead>\n",
              "  <tbody>\n",
              "    <tr>\n",
              "      <th>0</th>\n",
              "      <td>neg</td>\n",
              "      <td>6</td>\n",
              "      <td>0</td>\n",
              "      <td>0</td>\n",
              "      <td>0</td>\n",
              "      <td>0</td>\n",
              "      <td>0</td>\n",
              "      <td>0</td>\n",
              "      <td>0</td>\n",
              "      <td>0</td>\n",
              "      <td>...</td>\n",
              "      <td>26</td>\n",
              "      <td>8</td>\n",
              "      <td>26</td>\n",
              "      <td>52</td>\n",
              "      <td>0</td>\n",
              "      <td>0</td>\n",
              "      <td>0</td>\n",
              "      <td>0</td>\n",
              "      <td>0</td>\n",
              "      <td>0</td>\n",
              "    </tr>\n",
              "    <tr>\n",
              "      <th>1</th>\n",
              "      <td>neg</td>\n",
              "      <td>90</td>\n",
              "      <td>0</td>\n",
              "      <td>0</td>\n",
              "      <td>66</td>\n",
              "      <td>0</td>\n",
              "      <td>0</td>\n",
              "      <td>0</td>\n",
              "      <td>0</td>\n",
              "      <td>0</td>\n",
              "      <td>...</td>\n",
              "      <td>1268</td>\n",
              "      <td>526</td>\n",
              "      <td>554</td>\n",
              "      <td>300</td>\n",
              "      <td>118</td>\n",
              "      <td>260</td>\n",
              "      <td>0</td>\n",
              "      <td>0</td>\n",
              "      <td>0</td>\n",
              "      <td>0</td>\n",
              "    </tr>\n",
              "    <tr>\n",
              "      <th>2</th>\n",
              "      <td>neg</td>\n",
              "      <td>30</td>\n",
              "      <td>na</td>\n",
              "      <td>16</td>\n",
              "      <td>14</td>\n",
              "      <td>0</td>\n",
              "      <td>0</td>\n",
              "      <td>0</td>\n",
              "      <td>0</td>\n",
              "      <td>0</td>\n",
              "      <td>...</td>\n",
              "      <td>480</td>\n",
              "      <td>84</td>\n",
              "      <td>74</td>\n",
              "      <td>50</td>\n",
              "      <td>46</td>\n",
              "      <td>0</td>\n",
              "      <td>0</td>\n",
              "      <td>0</td>\n",
              "      <td>0</td>\n",
              "      <td>0</td>\n",
              "    </tr>\n",
              "    <tr>\n",
              "      <th>3</th>\n",
              "      <td>neg</td>\n",
              "      <td>444</td>\n",
              "      <td>na</td>\n",
              "      <td>14</td>\n",
              "      <td>12</td>\n",
              "      <td>0</td>\n",
              "      <td>0</td>\n",
              "      <td>0</td>\n",
              "      <td>0</td>\n",
              "      <td>0</td>\n",
              "      <td>...</td>\n",
              "      <td>1614</td>\n",
              "      <td>1144</td>\n",
              "      <td>3598</td>\n",
              "      <td>2460</td>\n",
              "      <td>1258</td>\n",
              "      <td>8524</td>\n",
              "      <td>110</td>\n",
              "      <td>0</td>\n",
              "      <td>0</td>\n",
              "      <td>0</td>\n",
              "    </tr>\n",
              "    <tr>\n",
              "      <th>4</th>\n",
              "      <td>neg</td>\n",
              "      <td>82</td>\n",
              "      <td>na</td>\n",
              "      <td>12</td>\n",
              "      <td>10</td>\n",
              "      <td>0</td>\n",
              "      <td>0</td>\n",
              "      <td>0</td>\n",
              "      <td>0</td>\n",
              "      <td>1464</td>\n",
              "      <td>...</td>\n",
              "      <td>1010</td>\n",
              "      <td>132</td>\n",
              "      <td>310</td>\n",
              "      <td>56</td>\n",
              "      <td>92</td>\n",
              "      <td>1292</td>\n",
              "      <td>0</td>\n",
              "      <td>0</td>\n",
              "      <td>0</td>\n",
              "      <td>0</td>\n",
              "    </tr>\n",
              "  </tbody>\n",
              "</table>\n",
              "<p>5 rows × 171 columns</p>\n",
              "</div>\n",
              "    <div class=\"colab-df-buttons\">\n",
              "\n",
              "  <div class=\"colab-df-container\">\n",
              "    <button class=\"colab-df-convert\" onclick=\"convertToInteractive('df-ea2cb00f-deca-48e1-8a77-d6bd3829ab21')\"\n",
              "            title=\"Convert this dataframe to an interactive table.\"\n",
              "            style=\"display:none;\">\n",
              "\n",
              "  <svg xmlns=\"http://www.w3.org/2000/svg\" height=\"24px\" viewBox=\"0 -960 960 960\">\n",
              "    <path d=\"M120-120v-720h720v720H120Zm60-500h600v-160H180v160Zm220 220h160v-160H400v160Zm0 220h160v-160H400v160ZM180-400h160v-160H180v160Zm440 0h160v-160H620v160ZM180-180h160v-160H180v160Zm440 0h160v-160H620v160Z\"/>\n",
              "  </svg>\n",
              "    </button>\n",
              "\n",
              "  <style>\n",
              "    .colab-df-container {\n",
              "      display:flex;\n",
              "      gap: 12px;\n",
              "    }\n",
              "\n",
              "    .colab-df-convert {\n",
              "      background-color: #E8F0FE;\n",
              "      border: none;\n",
              "      border-radius: 50%;\n",
              "      cursor: pointer;\n",
              "      display: none;\n",
              "      fill: #1967D2;\n",
              "      height: 32px;\n",
              "      padding: 0 0 0 0;\n",
              "      width: 32px;\n",
              "    }\n",
              "\n",
              "    .colab-df-convert:hover {\n",
              "      background-color: #E2EBFA;\n",
              "      box-shadow: 0px 1px 2px rgba(60, 64, 67, 0.3), 0px 1px 3px 1px rgba(60, 64, 67, 0.15);\n",
              "      fill: #174EA6;\n",
              "    }\n",
              "\n",
              "    .colab-df-buttons div {\n",
              "      margin-bottom: 4px;\n",
              "    }\n",
              "\n",
              "    [theme=dark] .colab-df-convert {\n",
              "      background-color: #3B4455;\n",
              "      fill: #D2E3FC;\n",
              "    }\n",
              "\n",
              "    [theme=dark] .colab-df-convert:hover {\n",
              "      background-color: #434B5C;\n",
              "      box-shadow: 0px 1px 3px 1px rgba(0, 0, 0, 0.15);\n",
              "      filter: drop-shadow(0px 1px 2px rgba(0, 0, 0, 0.3));\n",
              "      fill: #FFFFFF;\n",
              "    }\n",
              "  </style>\n",
              "\n",
              "    <script>\n",
              "      const buttonEl =\n",
              "        document.querySelector('#df-ea2cb00f-deca-48e1-8a77-d6bd3829ab21 button.colab-df-convert');\n",
              "      buttonEl.style.display =\n",
              "        google.colab.kernel.accessAllowed ? 'block' : 'none';\n",
              "\n",
              "      async function convertToInteractive(key) {\n",
              "        const element = document.querySelector('#df-ea2cb00f-deca-48e1-8a77-d6bd3829ab21');\n",
              "        const dataTable =\n",
              "          await google.colab.kernel.invokeFunction('convertToInteractive',\n",
              "                                                    [key], {});\n",
              "        if (!dataTable) return;\n",
              "\n",
              "        const docLinkHtml = 'Like what you see? Visit the ' +\n",
              "          '<a target=\"_blank\" href=https://colab.research.google.com/notebooks/data_table.ipynb>data table notebook</a>'\n",
              "          + ' to learn more about interactive tables.';\n",
              "        element.innerHTML = '';\n",
              "        dataTable['output_type'] = 'display_data';\n",
              "        await google.colab.output.renderOutput(dataTable, element);\n",
              "        const docLink = document.createElement('div');\n",
              "        docLink.innerHTML = docLinkHtml;\n",
              "        element.appendChild(docLink);\n",
              "      }\n",
              "    </script>\n",
              "  </div>\n",
              "\n",
              "\n",
              "<div id=\"df-24768d88-0117-4e4e-854b-7fb320367a18\">\n",
              "  <button class=\"colab-df-quickchart\" onclick=\"quickchart('df-24768d88-0117-4e4e-854b-7fb320367a18')\"\n",
              "            title=\"Suggest charts.\"\n",
              "            style=\"display:none;\">\n",
              "\n",
              "<svg xmlns=\"http://www.w3.org/2000/svg\" height=\"24px\"viewBox=\"0 0 24 24\"\n",
              "     width=\"24px\">\n",
              "    <g>\n",
              "        <path d=\"M19 3H5c-1.1 0-2 .9-2 2v14c0 1.1.9 2 2 2h14c1.1 0 2-.9 2-2V5c0-1.1-.9-2-2-2zM9 17H7v-7h2v7zm4 0h-2V7h2v10zm4 0h-2v-4h2v4z\"/>\n",
              "    </g>\n",
              "</svg>\n",
              "  </button>\n",
              "\n",
              "<style>\n",
              "  .colab-df-quickchart {\n",
              "      --bg-color: #E8F0FE;\n",
              "      --fill-color: #1967D2;\n",
              "      --hover-bg-color: #E2EBFA;\n",
              "      --hover-fill-color: #174EA6;\n",
              "      --disabled-fill-color: #AAA;\n",
              "      --disabled-bg-color: #DDD;\n",
              "  }\n",
              "\n",
              "  [theme=dark] .colab-df-quickchart {\n",
              "      --bg-color: #3B4455;\n",
              "      --fill-color: #D2E3FC;\n",
              "      --hover-bg-color: #434B5C;\n",
              "      --hover-fill-color: #FFFFFF;\n",
              "      --disabled-bg-color: #3B4455;\n",
              "      --disabled-fill-color: #666;\n",
              "  }\n",
              "\n",
              "  .colab-df-quickchart {\n",
              "    background-color: var(--bg-color);\n",
              "    border: none;\n",
              "    border-radius: 50%;\n",
              "    cursor: pointer;\n",
              "    display: none;\n",
              "    fill: var(--fill-color);\n",
              "    height: 32px;\n",
              "    padding: 0;\n",
              "    width: 32px;\n",
              "  }\n",
              "\n",
              "  .colab-df-quickchart:hover {\n",
              "    background-color: var(--hover-bg-color);\n",
              "    box-shadow: 0 1px 2px rgba(60, 64, 67, 0.3), 0 1px 3px 1px rgba(60, 64, 67, 0.15);\n",
              "    fill: var(--button-hover-fill-color);\n",
              "  }\n",
              "\n",
              "  .colab-df-quickchart-complete:disabled,\n",
              "  .colab-df-quickchart-complete:disabled:hover {\n",
              "    background-color: var(--disabled-bg-color);\n",
              "    fill: var(--disabled-fill-color);\n",
              "    box-shadow: none;\n",
              "  }\n",
              "\n",
              "  .colab-df-spinner {\n",
              "    border: 2px solid var(--fill-color);\n",
              "    border-color: transparent;\n",
              "    border-bottom-color: var(--fill-color);\n",
              "    animation:\n",
              "      spin 1s steps(1) infinite;\n",
              "  }\n",
              "\n",
              "  @keyframes spin {\n",
              "    0% {\n",
              "      border-color: transparent;\n",
              "      border-bottom-color: var(--fill-color);\n",
              "      border-left-color: var(--fill-color);\n",
              "    }\n",
              "    20% {\n",
              "      border-color: transparent;\n",
              "      border-left-color: var(--fill-color);\n",
              "      border-top-color: var(--fill-color);\n",
              "    }\n",
              "    30% {\n",
              "      border-color: transparent;\n",
              "      border-left-color: var(--fill-color);\n",
              "      border-top-color: var(--fill-color);\n",
              "      border-right-color: var(--fill-color);\n",
              "    }\n",
              "    40% {\n",
              "      border-color: transparent;\n",
              "      border-right-color: var(--fill-color);\n",
              "      border-top-color: var(--fill-color);\n",
              "    }\n",
              "    60% {\n",
              "      border-color: transparent;\n",
              "      border-right-color: var(--fill-color);\n",
              "    }\n",
              "    80% {\n",
              "      border-color: transparent;\n",
              "      border-right-color: var(--fill-color);\n",
              "      border-bottom-color: var(--fill-color);\n",
              "    }\n",
              "    90% {\n",
              "      border-color: transparent;\n",
              "      border-bottom-color: var(--fill-color);\n",
              "    }\n",
              "  }\n",
              "</style>\n",
              "\n",
              "  <script>\n",
              "    async function quickchart(key) {\n",
              "      const quickchartButtonEl =\n",
              "        document.querySelector('#' + key + ' button');\n",
              "      quickchartButtonEl.disabled = true;  // To prevent multiple clicks.\n",
              "      quickchartButtonEl.classList.add('colab-df-spinner');\n",
              "      try {\n",
              "        const charts = await google.colab.kernel.invokeFunction(\n",
              "            'suggestCharts', [key], {});\n",
              "      } catch (error) {\n",
              "        console.error('Error during call to suggestCharts:', error);\n",
              "      }\n",
              "      quickchartButtonEl.classList.remove('colab-df-spinner');\n",
              "      quickchartButtonEl.classList.add('colab-df-quickchart-complete');\n",
              "    }\n",
              "    (() => {\n",
              "      let quickchartButtonEl =\n",
              "        document.querySelector('#df-24768d88-0117-4e4e-854b-7fb320367a18 button');\n",
              "      quickchartButtonEl.style.display =\n",
              "        google.colab.kernel.accessAllowed ? 'block' : 'none';\n",
              "    })();\n",
              "  </script>\n",
              "</div>\n",
              "    </div>\n",
              "  </div>\n"
            ]
          },
          "metadata": {},
          "execution_count": 5
        }
      ],
      "source": [
        "df.head()"
      ]
    },
    {
      "cell_type": "code",
      "execution_count": null,
      "metadata": {
        "colab": {
          "base_uri": "https://localhost:8080/"
        },
        "id": "kjTH8_7hiZF0",
        "outputId": "d1db841b-6c3c-4f87-e985-8b68720e6f72"
      },
      "outputs": [
        {
          "output_type": "execute_result",
          "data": {
            "text/plain": [
              "(1413, 171)"
            ]
          },
          "metadata": {},
          "execution_count": 6
        }
      ],
      "source": [
        "df.shape"
      ]
    },
    {
      "cell_type": "code",
      "execution_count": null,
      "metadata": {
        "id": "apSO7FIljfex",
        "colab": {
          "base_uri": "https://localhost:8080/",
          "height": 424
        },
        "outputId": "2e69c74b-3ff3-4465-d814-bb983d3f9d9d"
      },
      "outputs": [
        {
          "output_type": "execute_result",
          "data": {
            "text/plain": [
              "        Null values count\n",
              "by_000                  1\n",
              "cs_003                  1\n",
              "cn_009                  1\n",
              "co_000                  1\n",
              "cp_000                  1\n",
              "...                   ...\n",
              "ag_000                  0\n",
              "ag_001                  0\n",
              "ag_002                  0\n",
              "ag_003                  0\n",
              "class                   0\n",
              "\n",
              "[171 rows x 1 columns]"
            ],
            "text/html": [
              "\n",
              "  <div id=\"df-a1a12738-b1ad-4ada-a46b-17dc9640010b\" class=\"colab-df-container\">\n",
              "    <div>\n",
              "<style scoped>\n",
              "    .dataframe tbody tr th:only-of-type {\n",
              "        vertical-align: middle;\n",
              "    }\n",
              "\n",
              "    .dataframe tbody tr th {\n",
              "        vertical-align: top;\n",
              "    }\n",
              "\n",
              "    .dataframe thead th {\n",
              "        text-align: right;\n",
              "    }\n",
              "</style>\n",
              "<table border=\"1\" class=\"dataframe\">\n",
              "  <thead>\n",
              "    <tr style=\"text-align: right;\">\n",
              "      <th></th>\n",
              "      <th>Null values count</th>\n",
              "    </tr>\n",
              "  </thead>\n",
              "  <tbody>\n",
              "    <tr>\n",
              "      <th>by_000</th>\n",
              "      <td>1</td>\n",
              "    </tr>\n",
              "    <tr>\n",
              "      <th>cs_003</th>\n",
              "      <td>1</td>\n",
              "    </tr>\n",
              "    <tr>\n",
              "      <th>cn_009</th>\n",
              "      <td>1</td>\n",
              "    </tr>\n",
              "    <tr>\n",
              "      <th>co_000</th>\n",
              "      <td>1</td>\n",
              "    </tr>\n",
              "    <tr>\n",
              "      <th>cp_000</th>\n",
              "      <td>1</td>\n",
              "    </tr>\n",
              "    <tr>\n",
              "      <th>...</th>\n",
              "      <td>...</td>\n",
              "    </tr>\n",
              "    <tr>\n",
              "      <th>ag_000</th>\n",
              "      <td>0</td>\n",
              "    </tr>\n",
              "    <tr>\n",
              "      <th>ag_001</th>\n",
              "      <td>0</td>\n",
              "    </tr>\n",
              "    <tr>\n",
              "      <th>ag_002</th>\n",
              "      <td>0</td>\n",
              "    </tr>\n",
              "    <tr>\n",
              "      <th>ag_003</th>\n",
              "      <td>0</td>\n",
              "    </tr>\n",
              "    <tr>\n",
              "      <th>class</th>\n",
              "      <td>0</td>\n",
              "    </tr>\n",
              "  </tbody>\n",
              "</table>\n",
              "<p>171 rows × 1 columns</p>\n",
              "</div>\n",
              "    <div class=\"colab-df-buttons\">\n",
              "\n",
              "  <div class=\"colab-df-container\">\n",
              "    <button class=\"colab-df-convert\" onclick=\"convertToInteractive('df-a1a12738-b1ad-4ada-a46b-17dc9640010b')\"\n",
              "            title=\"Convert this dataframe to an interactive table.\"\n",
              "            style=\"display:none;\">\n",
              "\n",
              "  <svg xmlns=\"http://www.w3.org/2000/svg\" height=\"24px\" viewBox=\"0 -960 960 960\">\n",
              "    <path d=\"M120-120v-720h720v720H120Zm60-500h600v-160H180v160Zm220 220h160v-160H400v160Zm0 220h160v-160H400v160ZM180-400h160v-160H180v160Zm440 0h160v-160H620v160ZM180-180h160v-160H180v160Zm440 0h160v-160H620v160Z\"/>\n",
              "  </svg>\n",
              "    </button>\n",
              "\n",
              "  <style>\n",
              "    .colab-df-container {\n",
              "      display:flex;\n",
              "      gap: 12px;\n",
              "    }\n",
              "\n",
              "    .colab-df-convert {\n",
              "      background-color: #E8F0FE;\n",
              "      border: none;\n",
              "      border-radius: 50%;\n",
              "      cursor: pointer;\n",
              "      display: none;\n",
              "      fill: #1967D2;\n",
              "      height: 32px;\n",
              "      padding: 0 0 0 0;\n",
              "      width: 32px;\n",
              "    }\n",
              "\n",
              "    .colab-df-convert:hover {\n",
              "      background-color: #E2EBFA;\n",
              "      box-shadow: 0px 1px 2px rgba(60, 64, 67, 0.3), 0px 1px 3px 1px rgba(60, 64, 67, 0.15);\n",
              "      fill: #174EA6;\n",
              "    }\n",
              "\n",
              "    .colab-df-buttons div {\n",
              "      margin-bottom: 4px;\n",
              "    }\n",
              "\n",
              "    [theme=dark] .colab-df-convert {\n",
              "      background-color: #3B4455;\n",
              "      fill: #D2E3FC;\n",
              "    }\n",
              "\n",
              "    [theme=dark] .colab-df-convert:hover {\n",
              "      background-color: #434B5C;\n",
              "      box-shadow: 0px 1px 3px 1px rgba(0, 0, 0, 0.15);\n",
              "      filter: drop-shadow(0px 1px 2px rgba(0, 0, 0, 0.3));\n",
              "      fill: #FFFFFF;\n",
              "    }\n",
              "  </style>\n",
              "\n",
              "    <script>\n",
              "      const buttonEl =\n",
              "        document.querySelector('#df-a1a12738-b1ad-4ada-a46b-17dc9640010b button.colab-df-convert');\n",
              "      buttonEl.style.display =\n",
              "        google.colab.kernel.accessAllowed ? 'block' : 'none';\n",
              "\n",
              "      async function convertToInteractive(key) {\n",
              "        const element = document.querySelector('#df-a1a12738-b1ad-4ada-a46b-17dc9640010b');\n",
              "        const dataTable =\n",
              "          await google.colab.kernel.invokeFunction('convertToInteractive',\n",
              "                                                    [key], {});\n",
              "        if (!dataTable) return;\n",
              "\n",
              "        const docLinkHtml = 'Like what you see? Visit the ' +\n",
              "          '<a target=\"_blank\" href=https://colab.research.google.com/notebooks/data_table.ipynb>data table notebook</a>'\n",
              "          + ' to learn more about interactive tables.';\n",
              "        element.innerHTML = '';\n",
              "        dataTable['output_type'] = 'display_data';\n",
              "        await google.colab.output.renderOutput(dataTable, element);\n",
              "        const docLink = document.createElement('div');\n",
              "        docLink.innerHTML = docLinkHtml;\n",
              "        element.appendChild(docLink);\n",
              "      }\n",
              "    </script>\n",
              "  </div>\n",
              "\n",
              "\n",
              "<div id=\"df-64d92f1a-51b5-48a9-a5cd-cbe1f1846256\">\n",
              "  <button class=\"colab-df-quickchart\" onclick=\"quickchart('df-64d92f1a-51b5-48a9-a5cd-cbe1f1846256')\"\n",
              "            title=\"Suggest charts.\"\n",
              "            style=\"display:none;\">\n",
              "\n",
              "<svg xmlns=\"http://www.w3.org/2000/svg\" height=\"24px\"viewBox=\"0 0 24 24\"\n",
              "     width=\"24px\">\n",
              "    <g>\n",
              "        <path d=\"M19 3H5c-1.1 0-2 .9-2 2v14c0 1.1.9 2 2 2h14c1.1 0 2-.9 2-2V5c0-1.1-.9-2-2-2zM9 17H7v-7h2v7zm4 0h-2V7h2v10zm4 0h-2v-4h2v4z\"/>\n",
              "    </g>\n",
              "</svg>\n",
              "  </button>\n",
              "\n",
              "<style>\n",
              "  .colab-df-quickchart {\n",
              "      --bg-color: #E8F0FE;\n",
              "      --fill-color: #1967D2;\n",
              "      --hover-bg-color: #E2EBFA;\n",
              "      --hover-fill-color: #174EA6;\n",
              "      --disabled-fill-color: #AAA;\n",
              "      --disabled-bg-color: #DDD;\n",
              "  }\n",
              "\n",
              "  [theme=dark] .colab-df-quickchart {\n",
              "      --bg-color: #3B4455;\n",
              "      --fill-color: #D2E3FC;\n",
              "      --hover-bg-color: #434B5C;\n",
              "      --hover-fill-color: #FFFFFF;\n",
              "      --disabled-bg-color: #3B4455;\n",
              "      --disabled-fill-color: #666;\n",
              "  }\n",
              "\n",
              "  .colab-df-quickchart {\n",
              "    background-color: var(--bg-color);\n",
              "    border: none;\n",
              "    border-radius: 50%;\n",
              "    cursor: pointer;\n",
              "    display: none;\n",
              "    fill: var(--fill-color);\n",
              "    height: 32px;\n",
              "    padding: 0;\n",
              "    width: 32px;\n",
              "  }\n",
              "\n",
              "  .colab-df-quickchart:hover {\n",
              "    background-color: var(--hover-bg-color);\n",
              "    box-shadow: 0 1px 2px rgba(60, 64, 67, 0.3), 0 1px 3px 1px rgba(60, 64, 67, 0.15);\n",
              "    fill: var(--button-hover-fill-color);\n",
              "  }\n",
              "\n",
              "  .colab-df-quickchart-complete:disabled,\n",
              "  .colab-df-quickchart-complete:disabled:hover {\n",
              "    background-color: var(--disabled-bg-color);\n",
              "    fill: var(--disabled-fill-color);\n",
              "    box-shadow: none;\n",
              "  }\n",
              "\n",
              "  .colab-df-spinner {\n",
              "    border: 2px solid var(--fill-color);\n",
              "    border-color: transparent;\n",
              "    border-bottom-color: var(--fill-color);\n",
              "    animation:\n",
              "      spin 1s steps(1) infinite;\n",
              "  }\n",
              "\n",
              "  @keyframes spin {\n",
              "    0% {\n",
              "      border-color: transparent;\n",
              "      border-bottom-color: var(--fill-color);\n",
              "      border-left-color: var(--fill-color);\n",
              "    }\n",
              "    20% {\n",
              "      border-color: transparent;\n",
              "      border-left-color: var(--fill-color);\n",
              "      border-top-color: var(--fill-color);\n",
              "    }\n",
              "    30% {\n",
              "      border-color: transparent;\n",
              "      border-left-color: var(--fill-color);\n",
              "      border-top-color: var(--fill-color);\n",
              "      border-right-color: var(--fill-color);\n",
              "    }\n",
              "    40% {\n",
              "      border-color: transparent;\n",
              "      border-right-color: var(--fill-color);\n",
              "      border-top-color: var(--fill-color);\n",
              "    }\n",
              "    60% {\n",
              "      border-color: transparent;\n",
              "      border-right-color: var(--fill-color);\n",
              "    }\n",
              "    80% {\n",
              "      border-color: transparent;\n",
              "      border-right-color: var(--fill-color);\n",
              "      border-bottom-color: var(--fill-color);\n",
              "    }\n",
              "    90% {\n",
              "      border-color: transparent;\n",
              "      border-bottom-color: var(--fill-color);\n",
              "    }\n",
              "  }\n",
              "</style>\n",
              "\n",
              "  <script>\n",
              "    async function quickchart(key) {\n",
              "      const quickchartButtonEl =\n",
              "        document.querySelector('#' + key + ' button');\n",
              "      quickchartButtonEl.disabled = true;  // To prevent multiple clicks.\n",
              "      quickchartButtonEl.classList.add('colab-df-spinner');\n",
              "      try {\n",
              "        const charts = await google.colab.kernel.invokeFunction(\n",
              "            'suggestCharts', [key], {});\n",
              "      } catch (error) {\n",
              "        console.error('Error during call to suggestCharts:', error);\n",
              "      }\n",
              "      quickchartButtonEl.classList.remove('colab-df-spinner');\n",
              "      quickchartButtonEl.classList.add('colab-df-quickchart-complete');\n",
              "    }\n",
              "    (() => {\n",
              "      let quickchartButtonEl =\n",
              "        document.querySelector('#df-64d92f1a-51b5-48a9-a5cd-cbe1f1846256 button');\n",
              "      quickchartButtonEl.style.display =\n",
              "        google.colab.kernel.accessAllowed ? 'block' : 'none';\n",
              "    })();\n",
              "  </script>\n",
              "</div>\n",
              "    </div>\n",
              "  </div>\n"
            ]
          },
          "metadata": {},
          "execution_count": 7
        }
      ],
      "source": [
        "pd.DataFrame(df.isnull().sum().sort_values(ascending = False)).rename(columns= {0:\"Null values count\"})"
      ]
    },
    {
      "cell_type": "code",
      "execution_count": null,
      "metadata": {
        "colab": {
          "base_uri": "https://localhost:8080/"
        },
        "id": "-iUlengiiaw6",
        "outputId": "5fb2e338-6dc8-4bbc-ee92-814a8cc56208"
      },
      "outputs": [
        {
          "output_type": "execute_result",
          "data": {
            "text/plain": [
              "160"
            ]
          },
          "metadata": {},
          "execution_count": 8
        }
      ],
      "source": [
        "df.isnull().sum().sum()"
      ]
    },
    {
      "cell_type": "code",
      "execution_count": null,
      "metadata": {
        "id": "RbeLc2_dizs5"
      },
      "outputs": [],
      "source": [
        "df = df.replace(\"na\",np.nan)"
      ]
    },
    {
      "cell_type": "code",
      "execution_count": null,
      "metadata": {
        "id": "FJ9R-RbBjsjF"
      },
      "outputs": [],
      "source": [
        "pd.options.display.max_rows = 1000"
      ]
    },
    {
      "cell_type": "code",
      "execution_count": null,
      "metadata": {
        "colab": {
          "base_uri": "https://localhost:8080/"
        },
        "id": "8rHBRi8ajHLB",
        "outputId": "93427652-66dc-4fbd-d293-430016eb26ec"
      },
      "outputs": [
        {
          "output_type": "execute_result",
          "data": {
            "text/plain": [
              "class        0\n",
              "aa_000       0\n",
              "ab_000    1074\n",
              "ac_000      80\n",
              "ad_000     329\n",
              "ae_000      53\n",
              "af_000      53\n",
              "ag_000      19\n",
              "ag_001      19\n",
              "ag_002      19\n",
              "ag_003      19\n",
              "ag_004      20\n",
              "ag_005      20\n",
              "ag_006      20\n",
              "ag_007      20\n",
              "ag_008      20\n",
              "ag_009      20\n",
              "ah_000      18\n",
              "ai_000      17\n",
              "aj_000      17\n",
              "ak_000     104\n",
              "al_000      20\n",
              "am_0        17\n",
              "an_000      20\n",
              "ao_000      17\n",
              "ap_000      20\n",
              "aq_000      17\n",
              "ar_000      56\n",
              "as_000      17\n",
              "at_000      17\n",
              "au_000      17\n",
              "av_000      54\n",
              "ax_000      54\n",
              "ay_000      20\n",
              "ay_001      20\n",
              "ay_002      20\n",
              "ay_003      20\n",
              "ay_004      20\n",
              "ay_005      20\n",
              "ay_006      20\n",
              "ay_007      20\n",
              "ay_008      20\n",
              "ay_009      20\n",
              "az_000      20\n",
              "az_001      20\n",
              "az_002      20\n",
              "az_003      20\n",
              "az_004      20\n",
              "az_005      20\n",
              "az_006      20\n",
              "az_007      20\n",
              "az_008      20\n",
              "az_009      20\n",
              "ba_000      20\n",
              "ba_001      20\n",
              "ba_002      20\n",
              "ba_003      20\n",
              "ba_004      20\n",
              "ba_005      20\n",
              "ba_006      20\n",
              "ba_007      20\n",
              "ba_008      20\n",
              "ba_009      20\n",
              "bb_000      18\n",
              "bc_000      56\n",
              "bd_000      56\n",
              "be_000      54\n",
              "bf_000      54\n",
              "bg_000      20\n",
              "bh_000      20\n",
              "bi_000      17\n",
              "bj_000      17\n",
              "bk_000     556\n",
              "bl_000     657\n",
              "bm_000     960\n",
              "bn_000    1059\n",
              "bo_000    1109\n",
              "bp_000    1140\n",
              "bq_000    1163\n",
              "br_000    1179\n",
              "bs_000      18\n",
              "bt_000       2\n",
              "bu_000      18\n",
              "bv_000      18\n",
              "bx_000      78\n",
              "by_000      11\n",
              "bz_000      56\n",
              "ca_000     104\n",
              "cb_000      18\n",
              "cc_000      78\n",
              "cd_000      19\n",
              "ce_000      54\n",
              "cf_000     329\n",
              "cg_000     329\n",
              "ch_000     329\n",
              "ci_000      15\n",
              "cj_000      15\n",
              "ck_000      15\n",
              "cl_000     207\n",
              "cm_000     212\n",
              "cn_000      20\n",
              "cn_001      20\n",
              "cn_002      20\n",
              "cn_003      20\n",
              "cn_004      20\n",
              "cn_005      20\n",
              "cn_006      20\n",
              "cn_007      20\n",
              "cn_008      20\n",
              "cn_009      20\n",
              "co_000     329\n",
              "cp_000      56\n",
              "cq_000      18\n",
              "cr_000    1074\n",
              "cs_000      20\n",
              "cs_001      20\n",
              "cs_002      20\n",
              "cs_003      20\n",
              "cs_004      20\n",
              "cs_005      20\n",
              "cs_006      20\n",
              "cs_007      20\n",
              "cs_008      20\n",
              "cs_009      20\n",
              "ct_000     306\n",
              "cu_000     306\n",
              "cv_000     306\n",
              "cx_000     306\n",
              "cy_000     306\n",
              "cz_000     306\n",
              "da_000     306\n",
              "db_000     306\n",
              "dc_000     306\n",
              "dd_000      54\n",
              "de_000      56\n",
              "df_000      95\n",
              "dg_000      95\n",
              "dh_000      95\n",
              "di_000      95\n",
              "dj_000      95\n",
              "dk_000      95\n",
              "dl_000      95\n",
              "dm_000      95\n",
              "dn_000      18\n",
              "do_000      56\n",
              "dp_000      56\n",
              "dq_000      56\n",
              "dr_000      56\n",
              "ds_000      56\n",
              "dt_000      56\n",
              "du_000      56\n",
              "dv_000      56\n",
              "dx_000      56\n",
              "dy_000      56\n",
              "dz_000      56\n",
              "ea_000      56\n",
              "eb_000      95\n",
              "ec_00      228\n",
              "ed_000     207\n",
              "ee_000      20\n",
              "ee_001      20\n",
              "ee_002      20\n",
              "ee_003      20\n",
              "ee_004      20\n",
              "ee_005      20\n",
              "ee_006      20\n",
              "ee_007      20\n",
              "ee_008      20\n",
              "ee_009      20\n",
              "ef_000      56\n",
              "eg_000      56\n",
              "dtype: int64"
            ]
          },
          "metadata": {},
          "execution_count": 11
        }
      ],
      "source": [
        "df.isnull().sum()"
      ]
    },
    {
      "cell_type": "code",
      "execution_count": null,
      "metadata": {
        "colab": {
          "base_uri": "https://localhost:8080/"
        },
        "id": "leJ6-TCwjJM0",
        "outputId": "4629ac98-870f-4a9d-9b19-e551b91fe9d4"
      },
      "outputs": [
        {
          "output_type": "execute_result",
          "data": {
            "text/plain": [
              "19960"
            ]
          },
          "metadata": {},
          "execution_count": 12
        }
      ],
      "source": [
        "df.isnull().sum().sum()"
      ]
    },
    {
      "cell_type": "code",
      "execution_count": null,
      "metadata": {
        "id": "KEtZEjgojqT7"
      },
      "outputs": [],
      "source": [
        "## filling missing values with mean\n",
        "for feature in [feature for feature in df.columns if feature not in [\"class\"]]:\n",
        "  df[feature] = df[feature].fillna(df[feature].median())\n"
      ]
    },
    {
      "cell_type": "code",
      "execution_count": null,
      "metadata": {
        "id": "NMNLsYUqh6aq",
        "colab": {
          "base_uri": "https://localhost:8080/"
        },
        "outputId": "a2fed1b3-4a87-41e4-ccf2-83ccbabd7e3c"
      },
      "outputs": [
        {
          "output_type": "execute_result",
          "data": {
            "text/plain": [
              "0"
            ]
          },
          "metadata": {},
          "execution_count": 14
        }
      ],
      "source": [
        "df.isnull().sum().sum()"
      ]
    },
    {
      "cell_type": "code",
      "execution_count": null,
      "metadata": {
        "id": "KWUxvhmciBot"
      },
      "outputs": [],
      "source": [
        "## splitting data\n",
        "X = df.drop(\"class\",axis = 1)\n",
        "y = df[\"class\"]"
      ]
    },
    {
      "cell_type": "code",
      "execution_count": null,
      "metadata": {
        "id": "PWPEVogBjtgA",
        "colab": {
          "base_uri": "https://localhost:8080/"
        },
        "outputId": "4df82bf7-86bf-4806-812b-ddb26339eb3b"
      },
      "outputs": [
        {
          "output_type": "execute_result",
          "data": {
            "text/plain": [
              "0    neg\n",
              "1    neg\n",
              "2    neg\n",
              "3    neg\n",
              "4    neg\n",
              "Name: class, dtype: object"
            ]
          },
          "metadata": {},
          "execution_count": 16
        }
      ],
      "source": [
        "y.head()"
      ]
    },
    {
      "cell_type": "code",
      "execution_count": null,
      "metadata": {
        "id": "iATkPIKdHhDL",
        "colab": {
          "base_uri": "https://localhost:8080/"
        },
        "outputId": "1afb89ef-69a6-4757-b7a9-81d0a6c872d9"
      },
      "outputs": [
        {
          "output_type": "stream",
          "name": "stdout",
          "text": [
            "<class 'pandas.core.frame.DataFrame'>\n",
            "RangeIndex: 1413 entries, 0 to 1412\n",
            "Data columns (total 170 columns):\n",
            " #    Column  Non-Null Count  Dtype \n",
            "---   ------  --------------  ----- \n",
            " 0    aa_000  1413 non-null   int64 \n",
            " 1    ab_000  1413 non-null   object\n",
            " 2    ac_000  1413 non-null   object\n",
            " 3    ad_000  1413 non-null   object\n",
            " 4    ae_000  1413 non-null   object\n",
            " 5    af_000  1413 non-null   object\n",
            " 6    ag_000  1413 non-null   object\n",
            " 7    ag_001  1413 non-null   object\n",
            " 8    ag_002  1413 non-null   object\n",
            " 9    ag_003  1413 non-null   object\n",
            " 10   ag_004  1413 non-null   object\n",
            " 11   ag_005  1413 non-null   object\n",
            " 12   ag_006  1413 non-null   object\n",
            " 13   ag_007  1413 non-null   object\n",
            " 14   ag_008  1413 non-null   object\n",
            " 15   ag_009  1413 non-null   object\n",
            " 16   ah_000  1413 non-null   object\n",
            " 17   ai_000  1413 non-null   object\n",
            " 18   aj_000  1413 non-null   object\n",
            " 19   ak_000  1413 non-null   object\n",
            " 20   al_000  1413 non-null   object\n",
            " 21   am_0    1413 non-null   object\n",
            " 22   an_000  1413 non-null   object\n",
            " 23   ao_000  1413 non-null   object\n",
            " 24   ap_000  1413 non-null   object\n",
            " 25   aq_000  1413 non-null   object\n",
            " 26   ar_000  1413 non-null   object\n",
            " 27   as_000  1413 non-null   object\n",
            " 28   at_000  1413 non-null   object\n",
            " 29   au_000  1413 non-null   object\n",
            " 30   av_000  1413 non-null   object\n",
            " 31   ax_000  1413 non-null   object\n",
            " 32   ay_000  1413 non-null   object\n",
            " 33   ay_001  1413 non-null   object\n",
            " 34   ay_002  1413 non-null   object\n",
            " 35   ay_003  1413 non-null   object\n",
            " 36   ay_004  1413 non-null   object\n",
            " 37   ay_005  1413 non-null   object\n",
            " 38   ay_006  1413 non-null   object\n",
            " 39   ay_007  1413 non-null   object\n",
            " 40   ay_008  1413 non-null   object\n",
            " 41   ay_009  1413 non-null   object\n",
            " 42   az_000  1413 non-null   object\n",
            " 43   az_001  1413 non-null   object\n",
            " 44   az_002  1413 non-null   object\n",
            " 45   az_003  1413 non-null   object\n",
            " 46   az_004  1413 non-null   object\n",
            " 47   az_005  1413 non-null   object\n",
            " 48   az_006  1413 non-null   object\n",
            " 49   az_007  1413 non-null   object\n",
            " 50   az_008  1413 non-null   object\n",
            " 51   az_009  1413 non-null   object\n",
            " 52   ba_000  1413 non-null   object\n",
            " 53   ba_001  1413 non-null   object\n",
            " 54   ba_002  1413 non-null   object\n",
            " 55   ba_003  1413 non-null   object\n",
            " 56   ba_004  1413 non-null   object\n",
            " 57   ba_005  1413 non-null   object\n",
            " 58   ba_006  1413 non-null   object\n",
            " 59   ba_007  1413 non-null   object\n",
            " 60   ba_008  1413 non-null   object\n",
            " 61   ba_009  1413 non-null   object\n",
            " 62   bb_000  1413 non-null   object\n",
            " 63   bc_000  1413 non-null   object\n",
            " 64   bd_000  1413 non-null   object\n",
            " 65   be_000  1413 non-null   object\n",
            " 66   bf_000  1413 non-null   object\n",
            " 67   bg_000  1413 non-null   object\n",
            " 68   bh_000  1413 non-null   object\n",
            " 69   bi_000  1413 non-null   object\n",
            " 70   bj_000  1413 non-null   object\n",
            " 71   bk_000  1413 non-null   object\n",
            " 72   bl_000  1413 non-null   object\n",
            " 73   bm_000  1413 non-null   object\n",
            " 74   bn_000  1413 non-null   object\n",
            " 75   bo_000  1413 non-null   object\n",
            " 76   bp_000  1413 non-null   object\n",
            " 77   bq_000  1413 non-null   object\n",
            " 78   br_000  1413 non-null   object\n",
            " 79   bs_000  1413 non-null   object\n",
            " 80   bt_000  1413 non-null   object\n",
            " 81   bu_000  1413 non-null   object\n",
            " 82   bv_000  1413 non-null   object\n",
            " 83   bx_000  1413 non-null   object\n",
            " 84   by_000  1413 non-null   object\n",
            " 85   bz_000  1413 non-null   object\n",
            " 86   ca_000  1413 non-null   object\n",
            " 87   cb_000  1413 non-null   object\n",
            " 88   cc_000  1413 non-null   object\n",
            " 89   cd_000  1413 non-null   object\n",
            " 90   ce_000  1413 non-null   object\n",
            " 91   cf_000  1413 non-null   object\n",
            " 92   cg_000  1413 non-null   object\n",
            " 93   ch_000  1413 non-null   object\n",
            " 94   ci_000  1413 non-null   object\n",
            " 95   cj_000  1413 non-null   object\n",
            " 96   ck_000  1413 non-null   object\n",
            " 97   cl_000  1413 non-null   object\n",
            " 98   cm_000  1413 non-null   object\n",
            " 99   cn_000  1413 non-null   object\n",
            " 100  cn_001  1413 non-null   object\n",
            " 101  cn_002  1413 non-null   object\n",
            " 102  cn_003  1413 non-null   object\n",
            " 103  cn_004  1413 non-null   object\n",
            " 104  cn_005  1413 non-null   object\n",
            " 105  cn_006  1413 non-null   object\n",
            " 106  cn_007  1413 non-null   object\n",
            " 107  cn_008  1413 non-null   object\n",
            " 108  cn_009  1413 non-null   object\n",
            " 109  co_000  1413 non-null   object\n",
            " 110  cp_000  1413 non-null   object\n",
            " 111  cq_000  1413 non-null   object\n",
            " 112  cr_000  1413 non-null   object\n",
            " 113  cs_000  1413 non-null   object\n",
            " 114  cs_001  1413 non-null   object\n",
            " 115  cs_002  1413 non-null   object\n",
            " 116  cs_003  1413 non-null   object\n",
            " 117  cs_004  1413 non-null   object\n",
            " 118  cs_005  1413 non-null   object\n",
            " 119  cs_006  1413 non-null   object\n",
            " 120  cs_007  1413 non-null   object\n",
            " 121  cs_008  1413 non-null   object\n",
            " 122  cs_009  1413 non-null   object\n",
            " 123  ct_000  1413 non-null   object\n",
            " 124  cu_000  1413 non-null   object\n",
            " 125  cv_000  1413 non-null   object\n",
            " 126  cx_000  1413 non-null   object\n",
            " 127  cy_000  1413 non-null   object\n",
            " 128  cz_000  1413 non-null   object\n",
            " 129  da_000  1413 non-null   object\n",
            " 130  db_000  1413 non-null   object\n",
            " 131  dc_000  1413 non-null   object\n",
            " 132  dd_000  1413 non-null   object\n",
            " 133  de_000  1413 non-null   object\n",
            " 134  df_000  1413 non-null   object\n",
            " 135  dg_000  1413 non-null   object\n",
            " 136  dh_000  1413 non-null   object\n",
            " 137  di_000  1413 non-null   object\n",
            " 138  dj_000  1413 non-null   object\n",
            " 139  dk_000  1413 non-null   object\n",
            " 140  dl_000  1413 non-null   object\n",
            " 141  dm_000  1413 non-null   object\n",
            " 142  dn_000  1413 non-null   object\n",
            " 143  do_000  1413 non-null   object\n",
            " 144  dp_000  1413 non-null   object\n",
            " 145  dq_000  1413 non-null   object\n",
            " 146  dr_000  1413 non-null   object\n",
            " 147  ds_000  1413 non-null   object\n",
            " 148  dt_000  1413 non-null   object\n",
            " 149  du_000  1413 non-null   object\n",
            " 150  dv_000  1413 non-null   object\n",
            " 151  dx_000  1413 non-null   object\n",
            " 152  dy_000  1413 non-null   object\n",
            " 153  dz_000  1413 non-null   object\n",
            " 154  ea_000  1413 non-null   object\n",
            " 155  eb_000  1413 non-null   object\n",
            " 156  ec_00   1413 non-null   object\n",
            " 157  ed_000  1413 non-null   object\n",
            " 158  ee_000  1413 non-null   object\n",
            " 159  ee_001  1413 non-null   object\n",
            " 160  ee_002  1413 non-null   object\n",
            " 161  ee_003  1413 non-null   object\n",
            " 162  ee_004  1413 non-null   object\n",
            " 163  ee_005  1413 non-null   object\n",
            " 164  ee_006  1413 non-null   object\n",
            " 165  ee_007  1413 non-null   object\n",
            " 166  ee_008  1413 non-null   object\n",
            " 167  ee_009  1413 non-null   object\n",
            " 168  ef_000  1413 non-null   object\n",
            " 169  eg_000  1413 non-null   object\n",
            "dtypes: int64(1), object(169)\n",
            "memory usage: 1.8+ MB\n"
          ]
        }
      ],
      "source": [
        "X.info(verbose=True,show_counts=True)"
      ]
    },
    {
      "cell_type": "code",
      "execution_count": null,
      "metadata": {
        "id": "fKJdIG8djxek"
      },
      "outputs": [],
      "source": [
        "y = pd.get_dummies(y,drop_first = True)"
      ]
    },
    {
      "cell_type": "code",
      "execution_count": null,
      "metadata": {
        "id": "n1sA53iTj5AD",
        "colab": {
          "base_uri": "https://localhost:8080/",
          "height": 206
        },
        "outputId": "f0e89fd0-38c0-4598-8379-f010efe108d4"
      },
      "outputs": [
        {
          "output_type": "execute_result",
          "data": {
            "text/plain": [
              "   pos\n",
              "0    0\n",
              "1    0\n",
              "2    0\n",
              "3    0\n",
              "4    0"
            ],
            "text/html": [
              "\n",
              "  <div id=\"df-cd518406-dfec-4d0d-a8c3-da361b422327\" class=\"colab-df-container\">\n",
              "    <div>\n",
              "<style scoped>\n",
              "    .dataframe tbody tr th:only-of-type {\n",
              "        vertical-align: middle;\n",
              "    }\n",
              "\n",
              "    .dataframe tbody tr th {\n",
              "        vertical-align: top;\n",
              "    }\n",
              "\n",
              "    .dataframe thead th {\n",
              "        text-align: right;\n",
              "    }\n",
              "</style>\n",
              "<table border=\"1\" class=\"dataframe\">\n",
              "  <thead>\n",
              "    <tr style=\"text-align: right;\">\n",
              "      <th></th>\n",
              "      <th>pos</th>\n",
              "    </tr>\n",
              "  </thead>\n",
              "  <tbody>\n",
              "    <tr>\n",
              "      <th>0</th>\n",
              "      <td>0</td>\n",
              "    </tr>\n",
              "    <tr>\n",
              "      <th>1</th>\n",
              "      <td>0</td>\n",
              "    </tr>\n",
              "    <tr>\n",
              "      <th>2</th>\n",
              "      <td>0</td>\n",
              "    </tr>\n",
              "    <tr>\n",
              "      <th>3</th>\n",
              "      <td>0</td>\n",
              "    </tr>\n",
              "    <tr>\n",
              "      <th>4</th>\n",
              "      <td>0</td>\n",
              "    </tr>\n",
              "  </tbody>\n",
              "</table>\n",
              "</div>\n",
              "    <div class=\"colab-df-buttons\">\n",
              "\n",
              "  <div class=\"colab-df-container\">\n",
              "    <button class=\"colab-df-convert\" onclick=\"convertToInteractive('df-cd518406-dfec-4d0d-a8c3-da361b422327')\"\n",
              "            title=\"Convert this dataframe to an interactive table.\"\n",
              "            style=\"display:none;\">\n",
              "\n",
              "  <svg xmlns=\"http://www.w3.org/2000/svg\" height=\"24px\" viewBox=\"0 -960 960 960\">\n",
              "    <path d=\"M120-120v-720h720v720H120Zm60-500h600v-160H180v160Zm220 220h160v-160H400v160Zm0 220h160v-160H400v160ZM180-400h160v-160H180v160Zm440 0h160v-160H620v160ZM180-180h160v-160H180v160Zm440 0h160v-160H620v160Z\"/>\n",
              "  </svg>\n",
              "    </button>\n",
              "\n",
              "  <style>\n",
              "    .colab-df-container {\n",
              "      display:flex;\n",
              "      gap: 12px;\n",
              "    }\n",
              "\n",
              "    .colab-df-convert {\n",
              "      background-color: #E8F0FE;\n",
              "      border: none;\n",
              "      border-radius: 50%;\n",
              "      cursor: pointer;\n",
              "      display: none;\n",
              "      fill: #1967D2;\n",
              "      height: 32px;\n",
              "      padding: 0 0 0 0;\n",
              "      width: 32px;\n",
              "    }\n",
              "\n",
              "    .colab-df-convert:hover {\n",
              "      background-color: #E2EBFA;\n",
              "      box-shadow: 0px 1px 2px rgba(60, 64, 67, 0.3), 0px 1px 3px 1px rgba(60, 64, 67, 0.15);\n",
              "      fill: #174EA6;\n",
              "    }\n",
              "\n",
              "    .colab-df-buttons div {\n",
              "      margin-bottom: 4px;\n",
              "    }\n",
              "\n",
              "    [theme=dark] .colab-df-convert {\n",
              "      background-color: #3B4455;\n",
              "      fill: #D2E3FC;\n",
              "    }\n",
              "\n",
              "    [theme=dark] .colab-df-convert:hover {\n",
              "      background-color: #434B5C;\n",
              "      box-shadow: 0px 1px 3px 1px rgba(0, 0, 0, 0.15);\n",
              "      filter: drop-shadow(0px 1px 2px rgba(0, 0, 0, 0.3));\n",
              "      fill: #FFFFFF;\n",
              "    }\n",
              "  </style>\n",
              "\n",
              "    <script>\n",
              "      const buttonEl =\n",
              "        document.querySelector('#df-cd518406-dfec-4d0d-a8c3-da361b422327 button.colab-df-convert');\n",
              "      buttonEl.style.display =\n",
              "        google.colab.kernel.accessAllowed ? 'block' : 'none';\n",
              "\n",
              "      async function convertToInteractive(key) {\n",
              "        const element = document.querySelector('#df-cd518406-dfec-4d0d-a8c3-da361b422327');\n",
              "        const dataTable =\n",
              "          await google.colab.kernel.invokeFunction('convertToInteractive',\n",
              "                                                    [key], {});\n",
              "        if (!dataTable) return;\n",
              "\n",
              "        const docLinkHtml = 'Like what you see? Visit the ' +\n",
              "          '<a target=\"_blank\" href=https://colab.research.google.com/notebooks/data_table.ipynb>data table notebook</a>'\n",
              "          + ' to learn more about interactive tables.';\n",
              "        element.innerHTML = '';\n",
              "        dataTable['output_type'] = 'display_data';\n",
              "        await google.colab.output.renderOutput(dataTable, element);\n",
              "        const docLink = document.createElement('div');\n",
              "        docLink.innerHTML = docLinkHtml;\n",
              "        element.appendChild(docLink);\n",
              "      }\n",
              "    </script>\n",
              "  </div>\n",
              "\n",
              "\n",
              "<div id=\"df-fe254673-d99f-422e-8ed1-19efec1a4fc5\">\n",
              "  <button class=\"colab-df-quickchart\" onclick=\"quickchart('df-fe254673-d99f-422e-8ed1-19efec1a4fc5')\"\n",
              "            title=\"Suggest charts.\"\n",
              "            style=\"display:none;\">\n",
              "\n",
              "<svg xmlns=\"http://www.w3.org/2000/svg\" height=\"24px\"viewBox=\"0 0 24 24\"\n",
              "     width=\"24px\">\n",
              "    <g>\n",
              "        <path d=\"M19 3H5c-1.1 0-2 .9-2 2v14c0 1.1.9 2 2 2h14c1.1 0 2-.9 2-2V5c0-1.1-.9-2-2-2zM9 17H7v-7h2v7zm4 0h-2V7h2v10zm4 0h-2v-4h2v4z\"/>\n",
              "    </g>\n",
              "</svg>\n",
              "  </button>\n",
              "\n",
              "<style>\n",
              "  .colab-df-quickchart {\n",
              "      --bg-color: #E8F0FE;\n",
              "      --fill-color: #1967D2;\n",
              "      --hover-bg-color: #E2EBFA;\n",
              "      --hover-fill-color: #174EA6;\n",
              "      --disabled-fill-color: #AAA;\n",
              "      --disabled-bg-color: #DDD;\n",
              "  }\n",
              "\n",
              "  [theme=dark] .colab-df-quickchart {\n",
              "      --bg-color: #3B4455;\n",
              "      --fill-color: #D2E3FC;\n",
              "      --hover-bg-color: #434B5C;\n",
              "      --hover-fill-color: #FFFFFF;\n",
              "      --disabled-bg-color: #3B4455;\n",
              "      --disabled-fill-color: #666;\n",
              "  }\n",
              "\n",
              "  .colab-df-quickchart {\n",
              "    background-color: var(--bg-color);\n",
              "    border: none;\n",
              "    border-radius: 50%;\n",
              "    cursor: pointer;\n",
              "    display: none;\n",
              "    fill: var(--fill-color);\n",
              "    height: 32px;\n",
              "    padding: 0;\n",
              "    width: 32px;\n",
              "  }\n",
              "\n",
              "  .colab-df-quickchart:hover {\n",
              "    background-color: var(--hover-bg-color);\n",
              "    box-shadow: 0 1px 2px rgba(60, 64, 67, 0.3), 0 1px 3px 1px rgba(60, 64, 67, 0.15);\n",
              "    fill: var(--button-hover-fill-color);\n",
              "  }\n",
              "\n",
              "  .colab-df-quickchart-complete:disabled,\n",
              "  .colab-df-quickchart-complete:disabled:hover {\n",
              "    background-color: var(--disabled-bg-color);\n",
              "    fill: var(--disabled-fill-color);\n",
              "    box-shadow: none;\n",
              "  }\n",
              "\n",
              "  .colab-df-spinner {\n",
              "    border: 2px solid var(--fill-color);\n",
              "    border-color: transparent;\n",
              "    border-bottom-color: var(--fill-color);\n",
              "    animation:\n",
              "      spin 1s steps(1) infinite;\n",
              "  }\n",
              "\n",
              "  @keyframes spin {\n",
              "    0% {\n",
              "      border-color: transparent;\n",
              "      border-bottom-color: var(--fill-color);\n",
              "      border-left-color: var(--fill-color);\n",
              "    }\n",
              "    20% {\n",
              "      border-color: transparent;\n",
              "      border-left-color: var(--fill-color);\n",
              "      border-top-color: var(--fill-color);\n",
              "    }\n",
              "    30% {\n",
              "      border-color: transparent;\n",
              "      border-left-color: var(--fill-color);\n",
              "      border-top-color: var(--fill-color);\n",
              "      border-right-color: var(--fill-color);\n",
              "    }\n",
              "    40% {\n",
              "      border-color: transparent;\n",
              "      border-right-color: var(--fill-color);\n",
              "      border-top-color: var(--fill-color);\n",
              "    }\n",
              "    60% {\n",
              "      border-color: transparent;\n",
              "      border-right-color: var(--fill-color);\n",
              "    }\n",
              "    80% {\n",
              "      border-color: transparent;\n",
              "      border-right-color: var(--fill-color);\n",
              "      border-bottom-color: var(--fill-color);\n",
              "    }\n",
              "    90% {\n",
              "      border-color: transparent;\n",
              "      border-bottom-color: var(--fill-color);\n",
              "    }\n",
              "  }\n",
              "</style>\n",
              "\n",
              "  <script>\n",
              "    async function quickchart(key) {\n",
              "      const quickchartButtonEl =\n",
              "        document.querySelector('#' + key + ' button');\n",
              "      quickchartButtonEl.disabled = true;  // To prevent multiple clicks.\n",
              "      quickchartButtonEl.classList.add('colab-df-spinner');\n",
              "      try {\n",
              "        const charts = await google.colab.kernel.invokeFunction(\n",
              "            'suggestCharts', [key], {});\n",
              "      } catch (error) {\n",
              "        console.error('Error during call to suggestCharts:', error);\n",
              "      }\n",
              "      quickchartButtonEl.classList.remove('colab-df-spinner');\n",
              "      quickchartButtonEl.classList.add('colab-df-quickchart-complete');\n",
              "    }\n",
              "    (() => {\n",
              "      let quickchartButtonEl =\n",
              "        document.querySelector('#df-fe254673-d99f-422e-8ed1-19efec1a4fc5 button');\n",
              "      quickchartButtonEl.style.display =\n",
              "        google.colab.kernel.accessAllowed ? 'block' : 'none';\n",
              "    })();\n",
              "  </script>\n",
              "</div>\n",
              "    </div>\n",
              "  </div>\n"
            ]
          },
          "metadata": {},
          "execution_count": 19
        }
      ],
      "source": [
        "y.head()"
      ]
    },
    {
      "cell_type": "code",
      "execution_count": null,
      "metadata": {
        "id": "xUex-bVYihP-"
      },
      "outputs": [],
      "source": [
        "## train test split\n",
        "from sklearn.model_selection import train_test_split\n",
        "X_train,X_test,y_train,y_test = train_test_split(X,y,test_size = 0.2,random_state = 0)"
      ]
    },
    {
      "cell_type": "code",
      "source": [
        "print(X_train.shape,y_train.shape,X_test.shape,y_test.shape)"
      ],
      "metadata": {
        "colab": {
          "base_uri": "https://localhost:8080/"
        },
        "id": "8_lfQBZojBvc",
        "outputId": "e480af3b-6480-4a69-a189-b3d471dc1fa0"
      },
      "execution_count": null,
      "outputs": [
        {
          "output_type": "stream",
          "name": "stdout",
          "text": [
            "(1130, 170) (1130, 1) (283, 170) (283, 1)\n"
          ]
        }
      ]
    },
    {
      "cell_type": "code",
      "execution_count": null,
      "metadata": {
        "id": "zhEVexIki0iX"
      },
      "outputs": [],
      "source": [
        "## scaling\n",
        "from sklearn.preprocessing import StandardScaler\n",
        "scaler = StandardScaler()"
      ]
    },
    {
      "cell_type": "code",
      "execution_count": null,
      "metadata": {
        "id": "C_5bwf4elHFk"
      },
      "outputs": [],
      "source": [
        "X_train_tr = scaler.fit_transform(X_train)\n",
        "X_test_tr = scaler.transform(X_test)"
      ]
    },
    {
      "cell_type": "code",
      "execution_count": null,
      "metadata": {
        "id": "v9hlBC_olZpd"
      },
      "outputs": [],
      "source": [
        "## importing keras libraries and packages\n",
        "import tensorflow.keras\n",
        "from tensorflow.keras.models import Sequential\n",
        "from tensorflow.keras.layers import Dense\n",
        "from tensorflow.keras.layers import Dropout"
      ]
    },
    {
      "cell_type": "code",
      "execution_count": null,
      "metadata": {
        "id": "hhamkjkOoyo6",
        "colab": {
          "base_uri": "https://localhost:8080/"
        },
        "outputId": "6dcf5e2e-6474-43b6-ab51-a7449b1f9bba"
      },
      "outputs": [
        {
          "output_type": "stream",
          "name": "stdout",
          "text": [
            "<class 'keras.engine.sequential.Sequential'>\n"
          ]
        }
      ],
      "source": [
        "print(Sequential)"
      ]
    },
    {
      "cell_type": "code",
      "execution_count": null,
      "metadata": {
        "id": "rOnVfNoWKeg2"
      },
      "outputs": [],
      "source": [
        "classifier = Sequential()\n",
        "\n",
        "classifier.add(Dense(units = 10,kernel_initializer = \"he_uniform\",activation = \"relu\",input_dim = 170))\n",
        "\n",
        "classifier.add(Dense(units = 10,kernel_initializer = \"he_uniform\",activation = \"relu\",))\n",
        "\n",
        "classifier.add(Dense(units = 1,kernel_initializer = \"glorot_uniform\",activation = \"sigmoid\"))"
      ]
    },
    {
      "cell_type": "code",
      "execution_count": null,
      "metadata": {
        "id": "tdlx-tYauO-s"
      },
      "outputs": [],
      "source": [
        "classifier.compile(optimizer=\"adam\",loss= \"binary_crossentropy\",metrics=[\"accuracy\"])"
      ]
    },
    {
      "cell_type": "code",
      "execution_count": null,
      "metadata": {
        "id": "m73DObPlwLtG",
        "colab": {
          "base_uri": "https://localhost:8080/"
        },
        "outputId": "b3388aa5-dff0-4e42-f859-0d9252a7f8c1"
      },
      "outputs": [
        {
          "output_type": "stream",
          "name": "stdout",
          "text": [
            "Model: \"sequential\"\n",
            "_________________________________________________________________\n",
            " Layer (type)                Output Shape              Param #   \n",
            "=================================================================\n",
            " dense (Dense)               (None, 10)                1710      \n",
            "                                                                 \n",
            " dense_1 (Dense)             (None, 10)                110       \n",
            "                                                                 \n",
            " dense_2 (Dense)             (None, 1)                 11        \n",
            "                                                                 \n",
            "=================================================================\n",
            "Total params: 1,831\n",
            "Trainable params: 1,831\n",
            "Non-trainable params: 0\n",
            "_________________________________________________________________\n"
          ]
        }
      ],
      "source": [
        "classifier.summary()"
      ]
    },
    {
      "cell_type": "code",
      "execution_count": null,
      "metadata": {
        "id": "QcOLmxyTwpvD",
        "colab": {
          "base_uri": "https://localhost:8080/"
        },
        "outputId": "05491812-6397-44cb-b0ce-50c6cdfde8c7"
      },
      "outputs": [
        {
          "output_type": "stream",
          "name": "stdout",
          "text": [
            "Epoch 1/20\n",
            "85/85 [==============================] - 7s 6ms/step - loss: 0.6975 - accuracy: 0.7273 - val_loss: 0.5112 - val_accuracy: 0.9647\n",
            "Epoch 2/20\n",
            "85/85 [==============================] - 0s 5ms/step - loss: 0.2890 - accuracy: 0.9740 - val_loss: 0.2637 - val_accuracy: 0.9717\n",
            "Epoch 3/20\n",
            "85/85 [==============================] - 0s 5ms/step - loss: 0.1043 - accuracy: 0.9906 - val_loss: 0.1597 - val_accuracy: 0.9788\n",
            "Epoch 4/20\n",
            "85/85 [==============================] - 0s 4ms/step - loss: 0.0594 - accuracy: 0.9941 - val_loss: 0.1305 - val_accuracy: 0.9859\n",
            "Epoch 5/20\n",
            "85/85 [==============================] - 0s 5ms/step - loss: 0.0433 - accuracy: 0.9917 - val_loss: 0.1098 - val_accuracy: 0.9894\n",
            "Epoch 6/20\n",
            "85/85 [==============================] - 0s 5ms/step - loss: 0.0273 - accuracy: 0.9965 - val_loss: 0.1089 - val_accuracy: 0.9929\n",
            "Epoch 7/20\n",
            "85/85 [==============================] - 0s 5ms/step - loss: 0.0221 - accuracy: 0.9953 - val_loss: 0.1536 - val_accuracy: 0.9717\n",
            "Epoch 8/20\n",
            "85/85 [==============================] - 0s 4ms/step - loss: 0.0181 - accuracy: 0.9976 - val_loss: 0.0983 - val_accuracy: 0.9929\n",
            "Epoch 9/20\n",
            "85/85 [==============================] - 1s 6ms/step - loss: 0.0133 - accuracy: 0.9976 - val_loss: 0.1066 - val_accuracy: 0.9929\n",
            "Epoch 10/20\n",
            "85/85 [==============================] - 1s 7ms/step - loss: 0.0111 - accuracy: 0.9976 - val_loss: 0.0985 - val_accuracy: 0.9965\n",
            "Epoch 11/20\n",
            "85/85 [==============================] - 1s 7ms/step - loss: 0.0092 - accuracy: 0.9988 - val_loss: 0.0972 - val_accuracy: 0.9965\n",
            "Epoch 12/20\n",
            "85/85 [==============================] - 1s 12ms/step - loss: 0.0078 - accuracy: 0.9988 - val_loss: 0.0982 - val_accuracy: 0.9965\n",
            "Epoch 13/20\n",
            "85/85 [==============================] - 0s 6ms/step - loss: 0.0068 - accuracy: 0.9988 - val_loss: 0.0965 - val_accuracy: 0.9965\n",
            "Epoch 14/20\n",
            "85/85 [==============================] - 1s 9ms/step - loss: 0.0059 - accuracy: 0.9988 - val_loss: 0.0985 - val_accuracy: 0.9965\n",
            "Epoch 15/20\n",
            "85/85 [==============================] - 0s 5ms/step - loss: 0.0050 - accuracy: 0.9988 - val_loss: 0.0987 - val_accuracy: 0.9965\n",
            "Epoch 16/20\n",
            "85/85 [==============================] - 0s 5ms/step - loss: 0.0047 - accuracy: 0.9988 - val_loss: 0.1014 - val_accuracy: 0.9965\n",
            "Epoch 17/20\n",
            "85/85 [==============================] - 0s 5ms/step - loss: 0.0040 - accuracy: 1.0000 - val_loss: 0.0999 - val_accuracy: 0.9965\n",
            "Epoch 18/20\n",
            "85/85 [==============================] - 0s 5ms/step - loss: 0.0037 - accuracy: 1.0000 - val_loss: 0.1015 - val_accuracy: 0.9965\n",
            "Epoch 19/20\n",
            "85/85 [==============================] - 0s 5ms/step - loss: 0.0033 - accuracy: 1.0000 - val_loss: 0.1044 - val_accuracy: 0.9965\n",
            "Epoch 20/20\n",
            "85/85 [==============================] - 0s 5ms/step - loss: 0.0029 - accuracy: 1.0000 - val_loss: 0.1045 - val_accuracy: 0.9965\n"
          ]
        }
      ],
      "source": [
        "model_history = classifier.fit(X_train_tr,y_train,batch_size=10,epochs=20,validation_split=0.25)"
      ]
    },
    {
      "cell_type": "code",
      "execution_count": null,
      "metadata": {
        "id": "0gQPJdFzyOsi",
        "colab": {
          "base_uri": "https://localhost:8080/"
        },
        "outputId": "b9077ec8-936e-4c7e-e96c-76ef970fe1eb"
      },
      "outputs": [
        {
          "output_type": "execute_result",
          "data": {
            "text/plain": [
              "dict_keys(['loss', 'accuracy', 'val_loss', 'val_accuracy'])"
            ]
          },
          "metadata": {},
          "execution_count": 30
        }
      ],
      "source": [
        "model_history.history.keys()"
      ]
    },
    {
      "cell_type": "code",
      "source": [
        "model_history.history[\"loss\"]"
      ],
      "metadata": {
        "colab": {
          "base_uri": "https://localhost:8080/"
        },
        "id": "iJVE0AxqfkXH",
        "outputId": "9ea89cf9-aa8f-4ded-e23f-5166562d644f"
      },
      "execution_count": null,
      "outputs": [
        {
          "output_type": "execute_result",
          "data": {
            "text/plain": [
              "[0.6974666118621826,\n",
              " 0.28897756338119507,\n",
              " 0.10430105030536652,\n",
              " 0.05937088653445244,\n",
              " 0.04333193972706795,\n",
              " 0.027262749150395393,\n",
              " 0.022085916250944138,\n",
              " 0.018138514831662178,\n",
              " 0.013250346295535564,\n",
              " 0.011115077883005142,\n",
              " 0.009154414758086205,\n",
              " 0.0077965352684259415,\n",
              " 0.006796629633754492,\n",
              " 0.005865277722477913,\n",
              " 0.00504923053085804,\n",
              " 0.0046647097915410995,\n",
              " 0.00402472261339426,\n",
              " 0.003654282074421644,\n",
              " 0.0033068517223000526,\n",
              " 0.002897735685110092]"
            ]
          },
          "metadata": {},
          "execution_count": 31
        }
      ]
    },
    {
      "cell_type": "code",
      "source": [
        "plt.plot(model_history.history[\"accuracy\"])\n",
        "plt.plot(model_history.history[\"val_accuracy\"])\n",
        "plt.title(\"model accuracy comparision\")\n",
        "plt.xlabel(\"epochs\")\n",
        "plt.ylabel(\"accuracy\")\n",
        "plt.legend([\"train\",\"test\"],loc= \"upper left\")\n",
        "plt.show()"
      ],
      "metadata": {
        "colab": {
          "base_uri": "https://localhost:8080/",
          "height": 472
        },
        "id": "BdvYjz2Cf-3Q",
        "outputId": "688643ec-4f0c-4cfc-80ff-9c7658fbb577"
      },
      "execution_count": null,
      "outputs": [
        {
          "output_type": "display_data",
          "data": {
            "text/plain": [
              "<Figure size 640x480 with 1 Axes>"
            ],
            "image/png": "[encoded data removed]"
          },
          "metadata": {}
        }
      ]
    },
    {
      "cell_type": "code",
      "source": [
        "plt.plot(model_history.history[\"loss\"])\n",
        "plt.plot(model_history.history[\"val_loss\"])\n",
        "plt.title(\"model loss comparision\")\n",
        "plt.xlabel(\"epochs\")\n",
        "plt.ylabel(\"loss\")\n",
        "plt.legend([\"train\",\"test\"],loc= \"upper left\")\n",
        "plt.show()"
      ],
      "metadata": {
        "colab": {
          "base_uri": "https://localhost:8080/",
          "height": 472
        },
        "id": "hbF6EJAVlGZ1",
        "outputId": "16aacfd2-ca08-4f50-d734-6b13d7ecaeb1"
      },
      "execution_count": null,
      "outputs": [
        {
          "output_type": "display_data",
          "data": {
            "text/plain": [
              "<Figure size 640x480 with 1 Axes>"
            ],
            "image/png": "[encoded data removed]"
          },
          "metadata": {}
        }
      ]
    },
    {
      "cell_type": "code",
      "source": [
        "y_pred = classifier.predict(X_test_tr)"
      ],
      "metadata": {
        "colab": {
          "base_uri": "https://localhost:8080/"
        },
        "id": "q_74_eh0mWt5",
        "outputId": "4e8fb69b-27b9-4f23-d9d8-04fd74d32029"
      },
      "execution_count": null,
      "outputs": [
        {
          "output_type": "stream",
          "name": "stdout",
          "text": [
            "9/9 [==============================] - 0s 2ms/step\n"
          ]
        }
      ]
    },
    {
      "cell_type": "code",
      "source": [
        "y_pred"
      ],
      "metadata": {
        "colab": {
          "base_uri": "https://localhost:8080/"
        },
        "id": "lLRTnWL_msSg",
        "outputId": "29aeb8dd-50d1-47a4-be9c-dcdef2cd73fd"
      },
      "execution_count": null,
      "outputs": [
        {
          "output_type": "execute_result",
          "data": {
            "text/plain": [
              "array([[7.84918293e-02],\n",
              "       [3.64137195e-05],\n",
              "       [1.43086145e-05],\n",
              "       [1.47665734e-04],\n",
              "       [1.51887371e-05],\n",
              "       [1.21626050e-04],\n",
              "       [3.50655646e-05],\n",
              "       [4.98951972e-01],\n",
              "       [2.99964086e-05],\n",
              "       [5.12845979e-08],\n",
              "       [9.15672064e-01],\n",
              "       [3.54843032e-05],\n",
              "       [2.43806717e-05],\n",
              "       [1.29534688e-04],\n",
              "       [1.68582163e-04],\n",
              "       [1.68614322e-04],\n",
              "       [7.53020431e-05],\n",
              "       [1.60905311e-03],\n",
              "       [1.82896692e-05],\n",
              "       [4.28802945e-04],\n",
              "       [3.04602527e-05],\n",
              "       [4.49271793e-05],\n",
              "       [1.64905941e-05],\n",
              "       [4.77926769e-05],\n",
              "       [1.90622122e-05],\n",
              "       [1.54177003e-04],\n",
              "       [4.29071188e-05],\n",
              "       [1.44382166e-05],\n",
              "       [1.50727546e-05],\n",
              "       [4.56578971e-04],\n",
              "       [9.99991536e-01],\n",
              "       [7.54856665e-05],\n",
              "       [7.78233007e-05],\n",
              "       [2.07739024e-04],\n",
              "       [1.00000000e+00],\n",
              "       [1.71402662e-05],\n",
              "       [5.18254586e-04],\n",
              "       [1.51464948e-04],\n",
              "       [1.12591730e-03],\n",
              "       [1.47416386e-05],\n",
              "       [1.10913743e-03],\n",
              "       [1.77996044e-05],\n",
              "       [5.55216939e-09],\n",
              "       [7.42365864e-06],\n",
              "       [4.54604669e-05],\n",
              "       [1.04947768e-01],\n",
              "       [9.20978200e-05],\n",
              "       [2.13264775e-05],\n",
              "       [1.54205220e-04],\n",
              "       [4.32431290e-04],\n",
              "       [2.02379069e-05],\n",
              "       [1.50917112e-05],\n",
              "       [1.16279843e-05],\n",
              "       [6.96440693e-04],\n",
              "       [8.23623486e-05],\n",
              "       [1.80499264e-05],\n",
              "       [1.32379773e-05],\n",
              "       [5.40815119e-04],\n",
              "       [1.84925329e-02],\n",
              "       [8.24355884e-05],\n",
              "       [6.58320263e-04],\n",
              "       [4.76723898e-07],\n",
              "       [9.89633409e-05],\n",
              "       [2.70571443e-03],\n",
              "       [7.49658066e-05],\n",
              "       [8.27634140e-05],\n",
              "       [2.22380724e-04],\n",
              "       [3.99963938e-05],\n",
              "       [1.29527989e-05],\n",
              "       [1.61201988e-05],\n",
              "       [6.50644836e-07],\n",
              "       [9.76427546e-05],\n",
              "       [7.05334591e-04],\n",
              "       [1.74567951e-08],\n",
              "       [1.17294432e-04],\n",
              "       [9.79937264e-04],\n",
              "       [1.52970933e-05],\n",
              "       [1.43375710e-05],\n",
              "       [6.19563391e-04],\n",
              "       [1.42000135e-05],\n",
              "       [3.48413669e-05],\n",
              "       [4.33516776e-04],\n",
              "       [1.00000000e+00],\n",
              "       [1.47603638e-03],\n",
              "       [1.92913940e-05],\n",
              "       [2.69853294e-01],\n",
              "       [2.15017553e-05],\n",
              "       [7.05182180e-03],\n",
              "       [1.07876025e-03],\n",
              "       [1.72507280e-05],\n",
              "       [3.06699767e-05],\n",
              "       [1.03320708e-04],\n",
              "       [2.56822677e-05],\n",
              "       [1.63408753e-04],\n",
              "       [1.38565811e-04],\n",
              "       [1.89471612e-05],\n",
              "       [3.10983851e-05],\n",
              "       [1.46166012e-05],\n",
              "       [1.51917211e-05],\n",
              "       [2.60482077e-04],\n",
              "       [1.53932961e-05],\n",
              "       [1.76126650e-05],\n",
              "       [5.15665626e-04],\n",
              "       [1.33243419e-04],\n",
              "       [1.50280157e-05],\n",
              "       [5.03637409e-03],\n",
              "       [9.63214188e-05],\n",
              "       [1.41389364e-05],\n",
              "       [6.61637634e-02],\n",
              "       [5.60155931e-05],\n",
              "       [1.46045195e-05],\n",
              "       [2.14613356e-05],\n",
              "       [1.34257585e-04],\n",
              "       [2.13642998e-05],\n",
              "       [1.71839474e-05],\n",
              "       [1.39692667e-04],\n",
              "       [1.80716263e-04],\n",
              "       [1.59956217e-05],\n",
              "       [5.97167173e-06],\n",
              "       [1.82508848e-05],\n",
              "       [3.76893513e-05],\n",
              "       [2.03032487e-05],\n",
              "       [1.69480791e-05],\n",
              "       [3.14072749e-05],\n",
              "       [6.02555345e-04],\n",
              "       [2.09130594e-04],\n",
              "       [1.49575117e-05],\n",
              "       [1.87323851e-04],\n",
              "       [1.04099214e-04],\n",
              "       [5.30176339e-06],\n",
              "       [1.50915619e-03],\n",
              "       [1.88768227e-05],\n",
              "       [2.47502958e-05],\n",
              "       [8.54836684e-03],\n",
              "       [1.54259797e-05],\n",
              "       [1.87131063e-05],\n",
              "       [4.64304176e-04],\n",
              "       [5.42157977e-05],\n",
              "       [1.75267596e-05],\n",
              "       [6.76140990e-05],\n",
              "       [3.68139918e-05],\n",
              "       [4.30103764e-03],\n",
              "       [2.34192630e-05],\n",
              "       [1.67643884e-05],\n",
              "       [6.62739185e-05],\n",
              "       [2.85958180e-07],\n",
              "       [1.43265599e-04],\n",
              "       [3.33744101e-05],\n",
              "       [1.46731509e-05],\n",
              "       [1.41069359e-05],\n",
              "       [8.74471953e-05],\n",
              "       [3.52326242e-05],\n",
              "       [4.27154810e-05],\n",
              "       [1.82923600e-02],\n",
              "       [2.50716635e-04],\n",
              "       [2.49367004e-05],\n",
              "       [9.12545584e-05],\n",
              "       [3.79793462e-04],\n",
              "       [4.22664545e-02],\n",
              "       [1.18954340e-03],\n",
              "       [2.83237478e-05],\n",
              "       [1.37549450e-05],\n",
              "       [2.68856111e-05],\n",
              "       [1.43405796e-05],\n",
              "       [1.44836977e-05],\n",
              "       [9.23518019e-05],\n",
              "       [8.67915514e-05],\n",
              "       [1.18106976e-03],\n",
              "       [1.80114603e-05],\n",
              "       [6.37099845e-04],\n",
              "       [1.84139423e-03],\n",
              "       [7.68080718e-05],\n",
              "       [1.54018126e-05],\n",
              "       [1.01650712e-05],\n",
              "       [3.97581549e-04],\n",
              "       [1.06975242e-01],\n",
              "       [2.25467747e-03],\n",
              "       [1.46799948e-05],\n",
              "       [2.96020327e-04],\n",
              "       [2.25689546e-05],\n",
              "       [1.03394808e-02],\n",
              "       [2.63670017e-06],\n",
              "       [1.88939684e-05],\n",
              "       [9.57791926e-05],\n",
              "       [1.55168396e-04],\n",
              "       [1.42752455e-04],\n",
              "       [2.45497009e-04],\n",
              "       [4.13577527e-01],\n",
              "       [1.41783230e-05],\n",
              "       [1.23694161e-04],\n",
              "       [7.69297010e-04],\n",
              "       [2.94945872e-04],\n",
              "       [2.41215130e-05],\n",
              "       [1.93663818e-05],\n",
              "       [1.12574955e-04],\n",
              "       [4.15297167e-04],\n",
              "       [1.38375044e-01],\n",
              "       [9.22017643e-05],\n",
              "       [1.74888937e-05],\n",
              "       [2.37800959e-05],\n",
              "       [9.99047935e-01],\n",
              "       [2.57985853e-03],\n",
              "       [1.38368450e-05],\n",
              "       [9.90639892e-05],\n",
              "       [2.98069138e-03],\n",
              "       [1.37738488e-03],\n",
              "       [1.95441447e-04],\n",
              "       [2.03221916e-05],\n",
              "       [1.47934652e-05],\n",
              "       [1.68909919e-05],\n",
              "       [1.91972831e-05],\n",
              "       [3.49221300e-05],\n",
              "       [2.05408869e-05],\n",
              "       [2.42203736e-04],\n",
              "       [8.46286595e-04],\n",
              "       [1.94180946e-04],\n",
              "       [6.93053225e-05],\n",
              "       [1.85124759e-06],\n",
              "       [1.98326175e-04],\n",
              "       [1.46517987e-05],\n",
              "       [5.83527610e-04],\n",
              "       [3.76672178e-05],\n",
              "       [1.06083537e-02],\n",
              "       [1.92608422e-05],\n",
              "       [4.10853798e-04],\n",
              "       [6.08897562e-06],\n",
              "       [3.10011994e-04],\n",
              "       [1.58888924e-05],\n",
              "       [1.16684787e-04],\n",
              "       [7.17145886e-05],\n",
              "       [6.73122108e-01],\n",
              "       [7.95988292e-02],\n",
              "       [3.02091095e-04],\n",
              "       [1.57532832e-05],\n",
              "       [4.41159755e-02],\n",
              "       [1.05077175e-04],\n",
              "       [1.32242581e-02],\n",
              "       [1.72340224e-05],\n",
              "       [1.22424972e-04],\n",
              "       [2.65744693e-05],\n",
              "       [1.06374886e-04],\n",
              "       [2.68987089e-04],\n",
              "       [2.48260866e-03],\n",
              "       [5.55628212e-04],\n",
              "       [1.17132033e-04],\n",
              "       [1.17745507e-03],\n",
              "       [7.99625588e-04],\n",
              "       [2.65381561e-04],\n",
              "       [5.20244939e-04],\n",
              "       [5.48726312e-05],\n",
              "       [3.74384254e-04],\n",
              "       [6.18692793e-05],\n",
              "       [2.06194709e-05],\n",
              "       [1.59598130e-05],\n",
              "       [5.16603395e-05],\n",
              "       [1.40078475e-06],\n",
              "       [2.07283790e-03],\n",
              "       [9.38176236e-05],\n",
              "       [3.28769056e-05],\n",
              "       [1.53697092e-05],\n",
              "       [1.94265565e-04],\n",
              "       [8.37681091e-06],\n",
              "       [1.41744022e-05],\n",
              "       [2.95481712e-01],\n",
              "       [3.48973349e-02],\n",
              "       [1.32973310e-05],\n",
              "       [1.35073249e-04],\n",
              "       [2.90601020e-04],\n",
              "       [1.45234235e-05],\n",
              "       [1.05701843e-02],\n",
              "       [1.71091560e-05],\n",
              "       [1.21912444e-05],\n",
              "       [2.70998844e-05],\n",
              "       [1.56962997e-05],\n",
              "       [1.52998383e-03],\n",
              "       [3.38679092e-05],\n",
              "       [1.48000127e-05],\n",
              "       [2.17894649e-05],\n",
              "       [1.12060632e-03],\n",
              "       [3.45156222e-05],\n",
              "       [1.83683529e-03],\n",
              "       [2.17030065e-05],\n",
              "       [1.58649069e-04]], dtype=float32)"
            ]
          },
          "metadata": {},
          "execution_count": 35
        }
      ]
    },
    {
      "cell_type": "code",
      "source": [
        "y_pred = y_pred>0.5\n"
      ],
      "metadata": {
        "id": "3Rh4vvM7mtjw"
      },
      "execution_count": null,
      "outputs": []
    },
    {
      "cell_type": "code",
      "source": [
        "from sklearn.metrics import confusion_matrix"
      ],
      "metadata": {
        "id": "IBayVcDFnIQT"
      },
      "execution_count": null,
      "outputs": []
    },
    {
      "cell_type": "code",
      "source": [
        "confusion_matrix(y_test,y_pred)"
      ],
      "metadata": {
        "colab": {
          "base_uri": "https://localhost:8080/"
        },
        "id": "vjvxOvJ2nNLr",
        "outputId": "67058948-7871-4276-85dd-3e1d3c127ca7"
      },
      "execution_count": null,
      "outputs": [
        {
          "output_type": "execute_result",
          "data": {
            "text/plain": [
              "array([[275,   4],\n",
              "       [  2,   2]])"
            ]
          },
          "metadata": {},
          "execution_count": 38
        }
      ]
    },
    {
      "cell_type": "code",
      "source": [
        "# saving model\n",
        "import os,time\n"
      ],
      "metadata": {
        "id": "iov8UMoVnGn2"
      },
      "execution_count": null,
      "outputs": []
    },
    {
      "cell_type": "code",
      "source": [
        "def saveModel_path(model_dir=\"SAVED_MODELS\"):\n",
        "  os.makedirs(model_dir,exist_ok=True)\n",
        "  filename = time.strftime(\"Model_%Y_%m_%d_%H_%M_%S_.h5\")\n",
        "  model_path = os.path.join(model_dir,filename)\n",
        "  print(f\"Your model saved in : {model_path}\")\n",
        "  return model_path"
      ],
      "metadata": {
        "id": "ENNYc0mbnLPP"
      },
      "execution_count": null,
      "outputs": []
    },
    {
      "cell_type": "code",
      "source": [
        "classifier.save(saveModel_path())"
      ],
      "metadata": {
        "colab": {
          "base_uri": "https://localhost:8080/"
        },
        "id": "CnkWnrL2oIvz",
        "outputId": "0b8847c7-59b5-4c21-d053-613b7c3599e4"
      },
      "execution_count": null,
      "outputs": [
        {
          "output_type": "stream",
          "name": "stdout",
          "text": [
            "Your model saved in : SAVED_MODELS/Model_2023_09_06_17_53_38_.h5\n"
          ]
        }
      ]
    },
    {
      "cell_type": "code",
      "source": [
        "# hyperparameter tuning with keras tuner\n",
        "\n",
        "\n",
        "\n",
        "!pip install keras-tuner --upgrade"
      ],
      "metadata": {
        "colab": {
          "base_uri": "https://localhost:8080/"
        },
        "id": "w506Xu_9qyiS",
        "outputId": "27334273-8fc0-4b1a-c40f-1c855a6bba60"
      },
      "execution_count": null,
      "outputs": [
        {
          "output_type": "stream",
          "name": "stdout",
          "text": [
            "Collecting keras-tuner\n",
            "  Downloading keras_tuner-1.3.5-py3-none-any.whl (176 kB)\n",
            "\u001b[2K     \u001b[90m━━━━━━━━━━━━━━━━━━━━━━━━━━━━━━━━━━━━━━━\u001b[0m \u001b[32m176.1/176.1 kB\u001b[0m \u001b[31m1.3 MB/s\u001b[0m eta \u001b[36m0:00:00\u001b[0m\n",
            "\u001b[?25hRequirement already satisfied: packaging in /usr/local/lib/python3.10/dist-packages (from keras-tuner) (23.1)\n",
            "Requirement already satisfied: requests in /usr/local/lib/python3.10/dist-packages (from keras-tuner) (2.31.0)\n",
            "Collecting kt-legacy (from keras-tuner)\n",
            "  Downloading kt_legacy-1.0.5-py3-none-any.whl (9.6 kB)\n",
            "Requirement already satisfied: charset-normalizer<4,>=2 in /usr/local/lib/python3.10/dist-packages (from requests->keras-tuner) (3.2.0)\n",
            "Requirement already satisfied: idna<4,>=2.5 in /usr/local/lib/python3.10/dist-packages (from requests->keras-tuner) (3.4)\n",
            "Requirement already satisfied: urllib3<3,>=1.21.1 in /usr/local/lib/python3.10/dist-packages (from requests->keras-tuner) (2.0.4)\n",
            "Requirement already satisfied: certifi>=2017.4.17 in /usr/local/lib/python3.10/dist-packages (from requests->keras-tuner) (2023.7.22)\n",
            "Installing collected packages: kt-legacy, keras-tuner\n",
            "Successfully installed keras-tuner-1.3.5 kt-legacy-1.0.5\n"
          ]
        }
      ]
    },
    {
      "cell_type": "code",
      "source": [
        "from kerastuner.tuners import RandomSearch"
      ],
      "metadata": {
        "colab": {
          "base_uri": "https://localhost:8080/"
        },
        "id": "6paU2Q66taqJ",
        "outputId": "f5d52e11-629d-4248-da92-11e1070266d8"
      },
      "execution_count": null,
      "outputs": [
        {
          "output_type": "stream",
          "name": "stderr",
          "text": [
            "<ipython-input-40-94471a811b41>:1: DeprecationWarning: `import kerastuner` is deprecated, please use `import keras_tuner`.\n",
            "  from kerastuner.tuners import RandomSearch\n"
          ]
        }
      ]
    },
    {
      "cell_type": "code",
      "source": [
        "def build_model(hp):\n",
        "  model = Sequential()\n",
        "  model.add(Dense(32,kernel_initializer = \"he_uniform\",activation='relu',input_dim=170))\n",
        "  model.add(Dense(32,kernel_initializer = \"he_uniform\",activation='relu'))\n",
        "  model.add(Dense(1,activation='sigmoid'))\n",
        "  optimizer = hp.Choice(\"optimizer\",values=[\"adam\",\"sgd\",\"rmsprop\",\"adadelta\"])\n",
        "  model.compile(optimizer=optimizer,loss='binary_crossentropy',metrics=['accuracy'])\n",
        "\n",
        "  return model"
      ],
      "metadata": {
        "id": "GJUcOYx6ud1p"
      },
      "execution_count": null,
      "outputs": []
    },
    {
      "cell_type": "code",
      "source": [
        "tuner = RandomSearch(build_model,objective='val_accuracy',max_trials=5,directory = \"project\",project_name = \"aps-fault\")"
      ],
      "metadata": {
        "id": "INfzuUPLu3wj"
      },
      "execution_count": null,
      "outputs": []
    },
    {
      "cell_type": "code",
      "source": [
        "tuner.search(X_train_tr,y_train,validation_data=(X_test_tr,y_test),epochs = 5)"
      ],
      "metadata": {
        "colab": {
          "base_uri": "https://localhost:8080/"
        },
        "id": "HL-g3uf4UzWn",
        "outputId": "720b2334-a084-427b-fd24-47ae1800c64f"
      },
      "execution_count": null,
      "outputs": [
        {
          "output_type": "stream",
          "name": "stdout",
          "text": [
            "Trial 4 Complete [00h 00m 05s]\n",
            "val_accuracy: 0.9858657121658325\n",
            "\n",
            "Best val_accuracy So Far: 0.9858657121658325\n",
            "Total elapsed time: 00h 00m 16s\n"
          ]
        }
      ]
    },
    {
      "cell_type": "code",
      "source": [
        "tuner.get_best_hyperparameters()[0].values"
      ],
      "metadata": {
        "colab": {
          "base_uri": "https://localhost:8080/"
        },
        "id": "U2XPWoOKWNsh",
        "outputId": "d214da40-2604-4850-b1ec-f0ce69d1e448"
      },
      "execution_count": null,
      "outputs": [
        {
          "output_type": "execute_result",
          "data": {
            "text/plain": [
              "{'optimizer': 'rmsprop'}"
            ]
          },
          "metadata": {},
          "execution_count": 44
        }
      ]
    },
    {
      "cell_type": "code",
      "source": [
        "my_model = tuner.get_best_models(num_models=1)[0]"
      ],
      "metadata": {
        "id": "cRkjXYRMXBBv"
      },
      "execution_count": null,
      "outputs": []
    },
    {
      "cell_type": "code",
      "source": [
        "my_model.summary()"
      ],
      "metadata": {
        "colab": {
          "base_uri": "https://localhost:8080/"
        },
        "id": "ZQVuYeHLXhk_",
        "outputId": "5cc0d5ab-9b32-4deb-eb29-f95f957a066d"
      },
      "execution_count": null,
      "outputs": [
        {
          "output_type": "stream",
          "name": "stdout",
          "text": [
            "Model: \"sequential\"\n",
            "_________________________________________________________________\n",
            " Layer (type)                Output Shape              Param #   \n",
            "=================================================================\n",
            " dense (Dense)               (None, 32)                5472      \n",
            "                                                                 \n",
            " dense_1 (Dense)             (None, 32)                1056      \n",
            "                                                                 \n",
            " dense_2 (Dense)             (None, 1)                 33        \n",
            "                                                                 \n",
            "=================================================================\n",
            "Total params: 6,561\n",
            "Trainable params: 6,561\n",
            "Non-trainable params: 0\n",
            "_________________________________________________________________\n"
          ]
        }
      ]
    },
    {
      "cell_type": "code",
      "source": [
        "from tensorflow.keras import optimizers\n",
        "def build_model(hp):\n",
        "  model = Sequential()\n",
        "  for i in range(hp.Int('num_layers',2,20)):\n",
        "    model.add(Dense(units = hp.Int(\"units_\"+ str(i),\n",
        "                                   min_value = 32,\n",
        "                                   max_value = 512,\n",
        "                                   step = 32)))\n",
        "    model.add(Dense(1,activation=\"sigmoid\"))\n",
        "    model.compile(optimizer = optimizers.Adam(\n",
        "        hp.Choice('learning_rate',[1e-2,1e-3,1e-4])),\n",
        "                  loss = 'binary_crossentropy',\n",
        "                  metrics = ['accuracy'])\n",
        "    return model\n"
      ],
      "metadata": {
        "id": "vN6PLeMoXkUN"
      },
      "execution_count": null,
      "outputs": []
    },
    {
      "cell_type": "code",
      "source": [
        "tuner_2 = RandomSearch(build_model,objective='val_accuracy',max_trials=5,directory = \"project1\",project_name = \"aps-fault1\")"
      ],
      "metadata": {
        "id": "wRWKzAInaX6f"
      },
      "execution_count": null,
      "outputs": []
    },
    {
      "cell_type": "code",
      "source": [
        "tuner_2.search(X_train_tr,y_train,validation_data=(X_test_tr,y_test),epochs = 5)"
      ],
      "metadata": {
        "colab": {
          "base_uri": "https://localhost:8080/"
        },
        "id": "wZ-zkIdhcPF_",
        "outputId": "e33d2b63-d50f-45a9-bb84-434852fd05c6"
      },
      "execution_count": null,
      "outputs": [
        {
          "output_type": "stream",
          "name": "stdout",
          "text": [
            "Trial 5 Complete [00h 00m 06s]\n",
            "val_accuracy: 0.9752650260925293\n",
            "\n",
            "Best val_accuracy So Far: 0.9752650260925293\n",
            "Total elapsed time: 00h 00m 31s\n"
          ]
        }
      ]
    },
    {
      "cell_type": "code",
      "source": [
        "tuner_2.get_best_hyperparameters()[0].values"
      ],
      "metadata": {
        "colab": {
          "base_uri": "https://localhost:8080/"
        },
        "id": "M-J5O_CVcYDm",
        "outputId": "9edef4f8-f418-4ed2-d3e9-2453e3b0e21f"
      },
      "execution_count": null,
      "outputs": [
        {
          "output_type": "execute_result",
          "data": {
            "text/plain": [
              "{'num_layers': 12, 'units_0': 192, 'learning_rate': 0.01}"
            ]
          },
          "metadata": {},
          "execution_count": 51
        }
      ]
    },
    {
      "cell_type": "code",
      "source": [
        "my_model = tuner_2.get_best_models(num_models=1)[0]"
      ],
      "metadata": {
        "colab": {
          "base_uri": "https://localhost:8080/"
        },
        "id": "8-Dz8FktgIs6",
        "outputId": "e8779e22-9825-46f4-8d8a-7942c65ffea1"
      },
      "execution_count": null,
      "outputs": [
        {
          "output_type": "stream",
          "name": "stderr",
          "text": [
            "WARNING:tensorflow:Detecting that an object or model or tf.train.Checkpoint is being deleted with unrestored values. See the following logs for the specific values in question. To silence these warnings, use `status.expect_partial()`. See https://www.tensorflow.org/api_docs/python/tf/train/Checkpoint#restorefor details about the status object returned by the restore function.\n",
            "WARNING:tensorflow:Value in checkpoint could not be found in the restored object: (root).optimizer._variables.1\n",
            "WARNING:tensorflow:Value in checkpoint could not be found in the restored object: (root).optimizer._variables.2\n",
            "WARNING:tensorflow:Value in checkpoint could not be found in the restored object: (root).optimizer._variables.3\n",
            "WARNING:tensorflow:Value in checkpoint could not be found in the restored object: (root).optimizer._variables.4\n",
            "WARNING:tensorflow:Value in checkpoint could not be found in the restored object: (root).optimizer._variables.5\n",
            "WARNING:tensorflow:Value in checkpoint could not be found in the restored object: (root).optimizer._variables.6\n"
          ]
        }
      ]
    },
    {
      "cell_type": "code",
      "source": [
        "my_model.summary()"
      ],
      "metadata": {
        "colab": {
          "base_uri": "https://localhost:8080/",
          "height": 331
        },
        "id": "vt8KlHENhCTM",
        "outputId": "63c92857-7bdd-4515-fa47-43373352689c"
      },
      "execution_count": null,
      "outputs": [
        {
          "output_type": "error",
          "ename": "ValueError",
          "evalue": "ignored",
          "traceback": [
            "\u001b[0;31m---------------------------------------------------------------------------\u001b[0m",
            "\u001b[0;31mValueError\u001b[0m                                Traceback (most recent call last)",
            "\u001b[0;32m<ipython-input-53-f2ddb8d89221>\u001b[0m in \u001b[0;36m<cell line: 1>\u001b[0;34m()\u001b[0m\n\u001b[0;32m----> 1\u001b[0;31m \u001b[0mmy_model\u001b[0m\u001b[0;34m.\u001b[0m\u001b[0msummary\u001b[0m\u001b[0;34m(\u001b[0m\u001b[0;34m)\u001b[0m\u001b[0;34m\u001b[0m\u001b[0;34m\u001b[0m\u001b[0m\n\u001b[0m",
            "\u001b[0;32m/usr/local/lib/python3.10/dist-packages/keras/engine/training.py\u001b[0m in \u001b[0;36msummary\u001b[0;34m(self, line_length, positions, print_fn, expand_nested, show_trainable, layer_range)\u001b[0m\n\u001b[1;32m   3227\u001b[0m         \"\"\"\n\u001b[1;32m   3228\u001b[0m         \u001b[0;32mif\u001b[0m \u001b[0;32mnot\u001b[0m \u001b[0mself\u001b[0m\u001b[0;34m.\u001b[0m\u001b[0mbuilt\u001b[0m\u001b[0;34m:\u001b[0m\u001b[0;34m\u001b[0m\u001b[0;34m\u001b[0m\u001b[0m\n\u001b[0;32m-> 3229\u001b[0;31m             raise ValueError(\n\u001b[0m\u001b[1;32m   3230\u001b[0m                 \u001b[0;34m\"This model has not yet been built. \"\u001b[0m\u001b[0;34m\u001b[0m\u001b[0;34m\u001b[0m\u001b[0m\n\u001b[1;32m   3231\u001b[0m                 \u001b[0;34m\"Build the model first by calling `build()` or by calling \"\u001b[0m\u001b[0;34m\u001b[0m\u001b[0;34m\u001b[0m\u001b[0m\n",
            "\u001b[0;31mValueError\u001b[0m: This model has not yet been built. Build the model first by calling `build()` or by calling the model on a batch of data."
          ]
        }
      ]
    },
    {
      "cell_type": "code",
      "source": [],
      "metadata": {
        "id": "z4B-o0ZMhE3a"
      },
      "execution_count": null,
      "outputs": []
    }
  ],
  "metadata": {
    "accelerator": "GPU",
    "colab": {
      "provenance": [],
      "toc_visible": true,
      "authorship_tag": "ABX9TyOZfQgisOKPFihkOM+fyDjY",
      "include_colab_link": true
    },
    "kernelspec": {
      "display_name": "Python 3",
      "name": "python3"
    },
    "language_info": {
      "name": "python"
    }
  },
  "nbformat": 4,
  "nbformat_minor": 0
}